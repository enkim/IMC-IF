{
 "cells": [
  {
   "cell_type": "code",
   "execution_count": 21,
   "metadata": {},
   "outputs": [
    {
     "name": "stdout",
     "output_type": "stream",
     "text": [
      "library import done\n"
     ]
    }
   ],
   "source": [
    "import glob\n",
    "import math\n",
    "from matplotlib import pyplot as plt\n",
    "import napari\n",
    "import numpy as np\n",
    "from numpy import asarray\n",
    "\n",
    "from skimage.io import imread,imshow,imsave\n",
    "from skimage.filters import threshold_otsu\n",
    "from skimage.measure import regionprops_table\n",
    "import os\n",
    "import pandas as pd\n",
    "import PIL\n",
    "from PIL import Image\n",
    "import tifffile\n",
    "\n",
    "from skimage.color import label2rgb\n",
    "from skimage.segmentation import expand_labels,find_boundaries, mark_boundaries\n",
    "os.chdir ('/Users/kim/Data/CRUK-OHSU_onedrive final 2022-09-30/Manuscript/IMC-IF method paper/Cell_report_method_resource/github')\n",
    "\n",
    "print('library import done')"
   ]
  },
  {
   "cell_type": "code",
   "execution_count": 22,
   "metadata": {},
   "outputs": [
    {
     "data": {
      "text/plain": [
       "'Analysis/new_July_2021/IFtilemask/DE18.NE_x_0_y_00.tif_mask.png'"
      ]
     },
     "execution_count": 22,
     "metadata": {},
     "output_type": "execute_result"
    }
   ],
   "source": [
    "df=pd.read_csv('Analysis/new_July_2021/IFtilemask/IFtilelist.csv') # tile mask metadata \n",
    "df=df.sort_values('tileorder')\n",
    "df['tileorder'][0]"
   ]
  },
  {
   "cell_type": "code",
   "execution_count": 23,
   "metadata": {},
   "outputs": [
    {
     "data": {
      "text/plain": [
       "['DE18.NE', 'DE28.NE', 'PS14.24197-1E', 'PS15.19650-B3', 'PS16.38634-F2']"
      ]
     },
     "execution_count": 23,
     "metadata": {},
     "output_type": "execute_result"
    }
   ],
   "source": [
    "slides=df['name'].drop_duplicates().tolist() # Whole slide image name \n",
    "slides"
   ]
  },
  {
   "cell_type": "code",
   "execution_count": 27,
   "metadata": {},
   "outputs": [],
   "source": [
    "inputfolder='IFtilemask_mesmer'\n",
    "preoutputfolder='maskmerge_mesmer_org'\n",
    "outputfolder='maskmerge_mesmer_0325'\n",
    "\n",
    "# Next \n",
    "# inputfolder='IFtilemask_mesmer_nuc'  \n",
    "# preoutputfolder='maskmerge_mesmer_nuc_org' \n",
    "# outputfolder='maskmerge_mesmer_nuc_0325'  \n",
    "\n",
    "mask_tile_list=sorted(glob.glob(f'Analysis/new_July_2021/{inputfolder}/*')) # mask tile location. "
   ]
  },
  {
   "cell_type": "code",
   "execution_count": 28,
   "metadata": {},
   "outputs": [
    {
     "name": "stdout",
     "output_type": "stream",
     "text": [
      "done\n"
     ]
    }
   ],
   "source": [
    "for a in mask_tile_list:\n",
    "    im=imread(a)\n",
    "    print(a)\n",
    "    print(im.shape)\n",
    "    print(im.dtype)\n",
    "print('done')"
   ]
  },
  {
   "cell_type": "code",
   "execution_count": 29,
   "metadata": {},
   "outputs": [
    {
     "name": "stdout",
     "output_type": "stream",
     "text": [
      "total cell number of  DE18.NE is 129865\n",
      "DE18.NE :96 files loading done xnum: 8 ynum: 12\n",
      "merged mask size: (35171, 57206)\n",
      "image size after resizing: (11431, 18592)\n",
      "cell number after resizing: 129865\n",
      "image size after resizing: (11431, 18592)\n",
      "image type after resizing: int32\n",
      "\n",
      "total cell number of  DE28.NE is 60735\n",
      "DE28.NE :40 files loading done xnum: 8 ynum: 5\n",
      "merged mask size: (38814, 22319)\n",
      "image size after resizing: (12615, 7254)\n",
      "cell number after resizing: 60735\n",
      "image size after resizing: (12615, 7254)\n",
      "image type after resizing: int32\n",
      "\n",
      "total cell number of  PS14.24197-1E is 85099\n",
      "PS14.24197-1E :24 files loading done xnum: 8 ynum: 3\n",
      "merged mask size: (38828, 13103)\n",
      "image size after resizing: (12620, 4259)\n",
      "cell number after resizing: 85099\n",
      "image size after resizing: (12620, 4259)\n",
      "image type after resizing: int32\n",
      "\n",
      "total cell number of  PS15.19650-B3 is 125875\n",
      "PS15.19650-B3 :45 files loading done xnum: 9 ynum: 5\n",
      "merged mask size: (42517, 20448)\n",
      "image size after resizing: (13819, 6646)\n",
      "cell number after resizing: 125875\n",
      "image size after resizing: (13819, 6646)\n",
      "image type after resizing: int32\n",
      "\n",
      "total cell number of  PS16.38634-F2 is 126746\n",
      "PS16.38634-F2 :80 files loading done xnum: 10 ynum: 8\n",
      "merged mask size: (48002, 35191)\n",
      "image size after resizing: (15601, 11438)\n",
      "cell number after resizing: 126746\n",
      "image size after resizing: (15601, 11438)\n",
      "image type after resizing: int32\n",
      "\n",
      "done\n"
     ]
    }
   ],
   "source": [
    "n=0\n",
    "for slide in slides: #slide name \n",
    "    name=slide\n",
    "    masks = []\n",
    "    for lst in mask_tile_list: # slide name - mask tile sorting. \n",
    "        if name in lst:\n",
    "            masks.append(lst)\n",
    "    \n",
    "    # ROI tile composition check \n",
    "    xnum=int(masks[-1].split('/')[-1].split('x_')[-1].split('_y_')[0])+1\n",
    "    ynum=int(masks[-1].split('/')[-1].split('_y_')[-1].split('.tif')[0])+1\n",
    "\n",
    "    # Mask array list   \n",
    "    maskarrays=[np.array(imread(mask),np.uint32) for mask in masks]\n",
    "    \n",
    "    # Mask intensity renewal \n",
    "    prevmax = 0 \n",
    "    inc_maskarrays=[]  \n",
    "    for m in maskarrays:\n",
    "        update= np.where(m>0,m+prevmax,0)\n",
    "        inc_maskarrays.append(update)\n",
    "        if m.any()> 0:\n",
    "            prevmax=np.max(update)\n",
    "        else:\n",
    "            continue\n",
    "\n",
    "    ### Mask intensity increase    \n",
    "    start=0\n",
    "\n",
    "    for array in inc_maskarrays:\n",
    "        if np.max(array)>start:\n",
    "            start=np.max(array)\n",
    "    print(\"total cell number of \",name, \"is\", np.max(start))\n",
    "    \n",
    "    # Mask merge\n",
    "    merge=np.vstack([np.hstack([inc_maskarrays[i*ynum+j] for j in range(ynum)]) for i in range(xnum)])\n",
    "    tifffile.imsave(f'Analysis/new_July_2021/{preoutputfolder}/{name}.tiff',merge) # input merged mask folder location. \n",
    "    img = Image.fromarray(merge)\n",
    "\n",
    "    # Mask resize \n",
    "    width=math.ceil(merge.shape[0]*0.325)\n",
    "    height=math.ceil(merge.shape[1]*0.325)    \n",
    "    imgresize=img.resize(size=(height,width),resample=PIL.Image.NEAREST)\n",
    "    pix = np.array(imgresize)\n",
    "    \n",
    "    tifffile.imsave(f'Analysis/new_July_2021/{outputfolder}/{name}.tiff',pix) # input merged mask folder location. \n",
    "    image = imread(f'Analysis/new_July_2021/{outputfolder}/{name}.tiff') # for double-checking \n",
    "        \n",
    "    print(name, f\":{len(inc_maskarrays)} files loading done\",'xnum:',xnum, 'ynum:',ynum)\n",
    "    print('merged mask size:', merge.shape)\n",
    "    print('image size after resizing:', pix.shape)\n",
    "    print('cell number after resizing:', np.max(pix))\n",
    "    print('image size after resizing:', pix.shape)\n",
    "    print('image type after resizing:',image.dtype)\n",
    "    print('')\n",
    "\n",
    "    n=n+1\n",
    "print('done')"
   ]
  },
  {
   "cell_type": "markdown",
   "metadata": {},
   "source": [
    "### Merged File size Check"
   ]
  },
  {
   "cell_type": "code",
   "execution_count": 32,
   "metadata": {},
   "outputs": [
    {
     "name": "stdout",
     "output_type": "stream",
     "text": [
      "Original IF image sizse is: (38828, 13103, 3)\n",
      "Resized IF image sizse is: (12620, 4259)\n",
      "Merged maskimage sizse is: (12620, 4259)\n",
      "Registered IMC image sizse is: (12620, 4259)\n"
     ]
    }
   ],
   "source": [
    "# PS14\n",
    "IForgpath='Analysis/new_July_2021/CZItoTiff/IF/PS14.24197-1E.czi.tif'\n",
    "maskmaergepath='Analysis/new_July_2021/maskmerge_mesmer_0325/PS14.24197-1E.tiff'\n",
    "IMCregpath='Analysis/new_July_2021/IMC_Registration/registered_ROI001_023_PS14.24197-1E/Registered_191Ir_Ir191_DNA.ome.tiff'\n",
    "\n",
    "viewer = napari.Viewer()\n",
    "\n",
    "# IF original\n",
    "image=imread(IForgpath)\n",
    "viewer.add_image(image, name='IForiginal',blending='additive');\n",
    "print(\"Original IF image sizse is:\", image.shape)\n",
    "\n",
    "# IFresize\n",
    "image=imread(IForgpath)\n",
    "width=math.ceil(image.shape[0]*0.325)\n",
    "height=math.ceil(image.shape[1]*0.325)\n",
    "img = Image.fromarray(image[:,:,0])\n",
    "imgresize=img.resize(size=(height,width),resample=PIL.Image.NEAREST)\n",
    "pix = np.array(imgresize)\n",
    "viewer.add_image(pix, name='IFimgresize',blending='additive',colormap='green');\n",
    "print(\"Resized IF image sizse is:\", pix.shape)\n",
    "\n",
    "# Maskmerge\n",
    "maskimage=imread(maskmaergepath)\n",
    "viewer.add_image(maskimage, name='Maskmerge',blending='additive',colormap='yellow');\n",
    "print(\"Merged maskimage sizse is:\", maskimage.shape)\n",
    "\n",
    "nuc_marked = mark_boundaries(maskimage, maskimage, color=(1,0,1))\n",
    "viewer.add_image(nuc_marked, name='Maskbound',blending='additive');\n",
    "\n",
    "# IMCreg \n",
    "image=imread(IMCregpath)\n",
    "viewer.add_image(image, name='IMCreg',blending='additive',colormap='red');\n",
    "print(\"Registered IMC image sizse is:\", image.shape)"
   ]
  }
 ],
 "metadata": {
  "kernelspec": {
   "display_name": "scimap_env4",
   "language": "python",
   "name": "scimap_env4"
  },
  "language_info": {
   "codemirror_mode": {
    "name": "ipython",
    "version": 3
   },
   "file_extension": ".py",
   "mimetype": "text/x-python",
   "name": "python",
   "nbconvert_exporter": "python",
   "pygments_lexer": "ipython3",
   "version": "3.8.13"
  }
 },
 "nbformat": 4,
 "nbformat_minor": 4
}
