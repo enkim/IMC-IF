{
 "cells": [
  {
   "cell_type": "code",
   "execution_count": 17,
   "metadata": {},
   "outputs": [
    {
     "name": "stdout",
     "output_type": "stream",
     "text": [
      "library import done\n"
     ]
    }
   ],
   "source": [
    "import glob\n",
    "import math\n",
    "import numpy as np\n",
    "import os\n",
    "import pandas as pd\n",
    "from PIL import Image\n",
    "import PIL\n",
    "from skimage.io import imread,imshow,imsave \n",
    "\n",
    "os.chdir ('/Users/kim/Data/CRUK-OHSU_onedrive final 2022-09-30/Manuscript/IMC-IF method paper/Cell_report_method_resource/github')\n",
    "\n",
    "print('library import done')"
   ]
  },
  {
   "cell_type": "markdown",
   "metadata": {},
   "source": [
    "### IF resize"
   ]
  },
  {
   "cell_type": "code",
   "execution_count": 18,
   "metadata": {},
   "outputs": [],
   "source": [
    "IFpaths=sorted(glob.glob('Data/IMC EMR (1)/ROI001*/2. IF/*.czi.tif'))"
   ]
  },
  {
   "cell_type": "code",
   "execution_count": 19,
   "metadata": {},
   "outputs": [
    {
     "name": "stdout",
     "output_type": "stream",
     "text": [
      "ROI001_041_PS16.38634-F2\n"
     ]
    }
   ],
   "source": [
    "# CPU each file with specific folder \n",
    "\n",
    "IFpath=IFpaths[-1]\n",
    "name=IFpath.split('/')[2]\n",
    "print(name)"
   ]
  },
  {
   "cell_type": "code",
   "execution_count": 20,
   "metadata": {},
   "outputs": [
    {
     "name": "stdout",
     "output_type": "stream",
     "text": [
      "(15601, 11438)\n",
      "(15601, 11438)\n",
      "(15601, 11438)\n"
     ]
    }
   ],
   "source": [
    "IForg=imread(IFpath)\n",
    "DAPI=IForg[:,:,0]\n",
    "Ecad=IForg[:,:,1]\n",
    "CD45=IForg[:,:,2] \n",
    "\n",
    "width=math.ceil(DAPI.shape[0]*0.325)\n",
    "height=math.ceil(DAPI.shape[1]*0.325)    \n",
    "\n",
    "DAPI_re = Image.fromarray(DAPI)\n",
    "DAPI_resize=DAPI_re.resize(size=(height,width),resample=PIL.Image.NEAREST)\n",
    "DAPI_resize_array = np.array(DAPI_resize)\n",
    "\n",
    "Ecad_re = Image.fromarray(Ecad)\n",
    "Ecad_resize=Ecad_re.resize(size=(height,width),resample=PIL.Image.NEAREST)\n",
    "Ecad_resize_array = np.array(Ecad_resize)\n",
    "\n",
    "CD45_re = Image.fromarray(CD45)\n",
    "CD45_resize=CD45_re.resize(size=(height,width),resample=PIL.Image.NEAREST)\n",
    "CD45_resize_array = np.array(CD45_resize)\n",
    "\n",
    "imsave(f'Data/IMC EMR (1)/{name}/resized_IF/{name}_DAPI.tif',DAPI_resize_array)  \n",
    "print(DAPI_resize_array.shape)\n",
    "imsave(f'Data/IMC EMR (1)/{name}/resized_IF/{name}_Ecad.tif',Ecad_resize_array) \n",
    "print(Ecad_resize_array.shape)\n",
    "imsave(f'Data/IMC EMR (1)/{name}/resized_IF/{name}_CD45.tif',CD45_resize_array) \n",
    "print(CD45_resize_array.shape)"
   ]
  },
  {
   "cell_type": "code",
   "execution_count": null,
   "metadata": {},
   "outputs": [],
   "source": [
    "# GPU Loop \n",
    "\n",
    "n=0\n",
    "for i in range(len(IFpaths)): \n",
    "    IFpath=IFpaths[n]\n",
    "    name=IFpath.split('/')[2]\n",
    "    IForg=imread(IFpath)\n",
    "    DAPI=IForg[:,:,0]\n",
    "    Ecad=IForg[:,:,1]\n",
    "    CD45=IForg[:,:,2] \n",
    "\n",
    "    width=math.ceil(DAPI.shape[0]*0.325)\n",
    "    height=math.ceil(DAPI.shape[1]*0.325)    \n",
    "\n",
    "    DAPI_re = Image.fromarray(DAPI)\n",
    "    DAPI_resize=DAPI_re.resize(size=(height,width),resample=PIL.Image.NEAREST)\n",
    "    DAPI_resize_array = np.array(DAPI_resize)\n",
    "    \n",
    "    Ecad_re = Image.fromarray(Ecad)\n",
    "    Ecad_resize=Ecad_re.resize(size=(height,width),resample=PIL.Image.NEAREST)\n",
    "    Ecad_resize_array = np.array(Ecad_resize)\n",
    "    \n",
    "    CD45_re = Image.fromarray(CD45)\n",
    "    CD45_resize=CD45_re.resize(size=(height,width),resample=PIL.Image.NEAREST)\n",
    "    CD45_resize_array = np.array(CD45_resize)\n",
    "    \n",
    "    path=f'new_July_2021/raw_data/{name}/resized_IF/'\n",
    "    createFolder(path)    \n",
    "    imsave(f'{path}/{name}_DAPI.tif',DAPI_resize_array)   \n",
    "    imsave(f'{path}/{name}_Ecad.tif',Ecad_resize_array)   \n",
    "    imsave(f'{path}/{name}_CD45.tif',CD45_resize_array)   \n",
    "    \n",
    "    print(path)\n",
    "    n=n+1\n",
    "\n",
    "print('all done')"
   ]
  }
 ],
 "metadata": {
  "kernelspec": {
   "display_name": "scimap_env4",
   "language": "python",
   "name": "scimap_env4"
  },
  "language_info": {
   "codemirror_mode": {
    "name": "ipython",
    "version": 3
   },
   "file_extension": ".py",
   "mimetype": "text/x-python",
   "name": "python",
   "nbconvert_exporter": "python",
   "pygments_lexer": "ipython3",
   "version": "3.8.13"
  }
 },
 "nbformat": 4,
 "nbformat_minor": 4
}
