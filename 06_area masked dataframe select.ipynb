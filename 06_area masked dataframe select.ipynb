{
 "cells": [
  {
   "cell_type": "code",
   "execution_count": 34,
   "metadata": {},
   "outputs": [
    {
     "name": "stdout",
     "output_type": "stream",
     "text": [
      "library import done\n"
     ]
    }
   ],
   "source": [
    "from glob import glob\n",
    "import numpy as np\n",
    "import os\n",
    "import pandas as pd\n",
    "from PIL import Image\n",
    "from skimage.io import imread\n",
    "import warnings\n",
    "warnings.filterwarnings(action='ignore')\n",
    "Image.MAX_IMAGE_PIXELS = None\n",
    "os.chdir ('/Users/kim/Data/CRUK-OHSU_onedrive final 2022-09-30/Manuscript/IMC-IF method paper/Cell_report_method_resource/github')\n",
    "\n",
    "print('library import done')"
   ]
  },
  {
   "cell_type": "code",
   "execution_count": 35,
   "metadata": {},
   "outputs": [],
   "source": [
    "# masked area save \n",
    "\n",
    "def makeareamask(name): \n",
    "    if (name == 'DE18.NE')|(name == 'DE28.NE.A') : \n",
    "        mask_ne = imread(glob(f'Data/IMC EMR (1)/*{name}*/5. Area mask/*_NE_Mask.tif')[0])\n",
    "\n",
    "        mask_nondys = np.zeros(mask_ne.shape)\n",
    "        mask_dys = np.zeros(mask_ne.shape)\n",
    "        mask_imc = np.zeros(mask_ne.shape)\n",
    "\n",
    "        mask_ne = np.where (mask_ne[:,:,1] !=0, 0, mask_ne[:,:,0])\n",
    "        mask_nondys = np.where (mask_nondys[:,:,1] !=0, 0, mask_nondys[:,:,0])\n",
    "        mask_dys = np.where (mask_dys[:,:,1] !=0, 0, mask_dys[:,:,0])\n",
    "        mask_imc = np.where (mask_imc[:,:,1] !=0, 0, mask_imc[:,:,0])\n",
    "\n",
    "    elif (name== 'PS14.24197-1E')| ( name == 'PS15.19650-B3') : \n",
    "        mask_nondys = imread(glob(f'Data/IMC EMR (1)/*{name}*/5. Area mask/*_NonDys_Mask.tif')[0]) \n",
    "        mask_dys = imread(glob(f'Data/IMC EMR (1)/*{name}*/5. Area mask/*_Dys_Mask.tif')[0])\n",
    "        mask_imc = imread(glob(f'Data/IMC EMR (1)/*{name}*/5. Area mask/*_IMC_Mask.tif')[0])\n",
    "        mask_ne = np.zeros(mask_nondys.shape) \n",
    "\n",
    "        mask_ne = np.where (mask_ne[:,:,1] !=0, 0, mask_ne[:,:,0])\n",
    "        mask_nondys = np.where (mask_nondys[:,:,1] !=0, 0, mask_nondys[:,:,0])\n",
    "        mask_dys = np.where (mask_dys[:,:,1] !=0, 0, mask_dys[:,:,0])\n",
    "        mask_imc = np.where (mask_imc[:,:,1] !=0, 0, mask_imc[:,:,0]) \n",
    "\n",
    "    elif name == 'PS16.38634-F2':\n",
    "        pt=name.split('.')[0]\n",
    "        mask_nondys = imread(glob(f'Data/IMC EMR (1)/*{pt}*/5. Area mask/*_NonDys*')[0])  \n",
    "        mask_ne = np.zeros(mask_nondys.shape) \n",
    "        mask_dys = np.zeros(mask_nondys.shape) \n",
    "        mask_imc = np.zeros(mask_nondys.shape) \n",
    "\n",
    "\n",
    "    mask_ne_re =np.array(mask_ne,np.uint8)\n",
    "    Image.fromarray(mask_ne_re).save(f'Analysis/new_July_2021/areamask/{name}_mask_ne.tiff')\n",
    "\n",
    "    mask_nondys_re =np.array(mask_nondys,np.uint8)\n",
    "    Image.fromarray(mask_nondys_re).save(f'Analysis/new_July_2021/areamask/{name}_mask_nondys.tiff')\n",
    "\n",
    "    mask_dys_re =np.array(mask_dys,np.uint8)\n",
    "    Image.fromarray(mask_dys_re).save(f'Analysis/new_July_2021/areamask/{name}_mask_dys.tiff')\n",
    "\n",
    "\n",
    "    mask_imc_re =np.array(mask_imc,np.uint8)\n",
    "    Image.fromarray(mask_imc_re).save(f'Analysis/new_July_2021/areamask/{name}_mask_imc.tiff')\n",
    "\n",
    "    print(name, 'done')"
   ]
  },
  {
   "cell_type": "code",
   "execution_count": 36,
   "metadata": {},
   "outputs": [],
   "source": [
    "# Select cells from Dataframe : area masks among nuc or cell masks \n",
    "\n",
    "def masked_df(name, cat, areamask): \n",
    "    pt=name.split('.')[0]\n",
    "    # Cell mask \n",
    "    if cat == 'IF': \n",
    "        path = 'Analysis/new_July_2021/ncratio_feature/merge_IF.csv'\n",
    "    elif cat == 'IMC':\n",
    "        path = 'Analysis/new_July_2021/ncratio_feature/merge_IMC.csv'\n",
    "\n",
    "    df=pd.read_csv(path)\n",
    "\n",
    "    # Read Nuc/cell masks \n",
    "    IF_nuc = imread(f'Analysis/new_July_2021/maskmerge_mesmer_nuc_0325/{name}.tiff') \n",
    "    IF_cell = imread(f'Analysis/new_July_2021/maskmerge_mesmer_0325/{name}.tiff') \n",
    "\n",
    "    IMC_cell = imread(f'Analysis/new_July_2021/IMC_mesmer/{pt}.tiff') \n",
    "    IMC_nuc = imread(f'Analysis/new_July_2021/IMC_mesmer_nuc/{pt}.tiff')\n",
    "\n",
    "    IMC_rim = np.where(IMC_nuc != 0, 0, IMC_cell)\n",
    "    IF_rim = np.where(IF_nuc != 0, 0, IF_cell)\n",
    "\n",
    "    IF_nuc_final = np.where(IF_rim !=0, 0, IF_cell)\n",
    "    IMC_nuc_final = np.where(IMC_rim !=0, 0, IMC_cell)\n",
    "\n",
    "    # Find Cell ID \n",
    "    df_ID = df[df['name']== name]\n",
    "    # maks\n",
    "    if cat == 'IF': \n",
    "        ptmask= np.where(areamask==255,IF_cell,0)\n",
    "    if cat == 'IMC': \n",
    "        ptmask= np.where(areamask==255,IMC_cell,0)\n",
    "    \n",
    "    ptmask=ptmask.flatten()\n",
    "    ptmask=df_ID['cell_id'].isin(ptmask)\n",
    "    finaldf=df_ID[ptmask]\n",
    "    return finaldf "
   ]
  },
  {
   "cell_type": "code",
   "execution_count": 37,
   "metadata": {},
   "outputs": [],
   "source": [
    "# Merge dataframe for three diseae status masks \n",
    "\n",
    "def merge_ds_mask(name, cat):\n",
    "    # Disease mask \n",
    "    mask_ne_final=imread(f'Analysis/new_July_2021/areamask/{name}_mask_ne.tiff')\n",
    "    mask_nondys_final=imread(f'Analysis/new_July_2021/areamask/{name}_mask_nondys.tiff')\n",
    "    mask_dys_final=imread(f'Analysis/new_July_2021/areamask/{name}_mask_dys.tiff')\n",
    "    mask_imc_final=imread(f'Analysis/new_July_2021/areamask/{name}_mask_imc.tiff')\n",
    "    df_ne= masked_df(name=name, cat=cat, areamask=mask_ne_final)\n",
    "    df_ne['dx']='ne'\n",
    "    df_nondys = masked_df(name=name, cat=cat, areamask=mask_nondys_final)\n",
    "    df_nondys['dx'] = 'nondys'\n",
    "    df_dys = masked_df(name=name, cat=cat, areamask=mask_dys_final)\n",
    "    df_dys['dx'] = 'dys'\n",
    "    df_imc = masked_df(name=name, cat=cat, areamask=mask_imc_final)\n",
    "    df_imc['dx'] = 'imc'\n",
    "    df_final=pd.concat([df_ne, df_nondys,df_dys, df_imc], axis=0)\n",
    "    df_final.to_csv(f'Analysis/new_July_2021/ncratio_feature/dxmask/{cat}_{name}_dxmask.csv')\n",
    "    return df_final"
   ]
  },
  {
   "cell_type": "code",
   "execution_count": 33,
   "metadata": {},
   "outputs": [
    {
     "name": "stdout",
     "output_type": "stream",
     "text": [
      "DE18.NE done\n",
      "DE28.NE.A done\n",
      "PS14.24197-1E done\n",
      "PS15.19650-B3 done\n",
      "PS16.38634-F2 done\n",
      "finally done\n"
     ]
    }
   ],
   "source": [
    "names = ['DE18.NE', 'DE28.NE.A', 'PS14.24197-1E', 'PS15.19650-B3', 'PS16.38634-F2']\n",
    "\n",
    "for name in names:\n",
    "    makeareamask(name=name)\n",
    "print('finally done')"
   ]
  },
  {
   "cell_type": "code",
   "execution_count": 10,
   "metadata": {},
   "outputs": [
    {
     "name": "stdout",
     "output_type": "stream",
     "text": [
      "done\n",
      "done\n",
      "done\n",
      "done\n",
      "DE18.NE done\n",
      "done\n",
      "done\n",
      "done\n",
      "done\n",
      "DE28.NE.A done\n",
      "done\n",
      "done\n",
      "done\n",
      "done\n",
      "PS14.24197-1E done\n",
      "done\n",
      "done\n",
      "done\n",
      "done\n",
      "PS15.19650-B3 done\n",
      "done\n",
      "done\n",
      "done\n",
      "done\n",
      "PS16.38634-F2 done\n",
      "finally done\n",
      "done\n"
     ]
    }
   ],
   "source": [
    "cat = 'IF'\n",
    "\n",
    "for name in names: \n",
    "    merge_ds_mask(name, cat='IF') # cat='IMC'\n",
    "    print(name, 'done')\n",
    "print('finally done')\n",
    "\n",
    "file_list= sorted(glob(f'Analysis/new_July_2021/ncratio_feature/dxmask/{cat}_*'))\n",
    "df_mask_column =pd.read_csv(file_list[0])\n",
    "column_names=df_mask_column.columns\n",
    "df_merg = pd.DataFrame(columns = column_names)\n",
    "\n",
    "for name in names:\n",
    "    df_next = pd.read_csv(f'Analysis/new_July_2021/ncratio_feature/dxmask/{cat}_{name}_dxmask.csv')\n",
    "    df_merg = pd.concat([df_merg,df_next], ignore_index=True)\n",
    "\n",
    "df_merg.to_csv(f'Analysis/new_July_2021/ncratio_feature/merge_maskdx_{cat}.csv')\n",
    "print('done')\n"
   ]
  },
  {
   "cell_type": "code",
   "execution_count": 13,
   "metadata": {},
   "outputs": [
    {
     "name": "stdout",
     "output_type": "stream",
     "text": [
      "done\n",
      "done\n",
      "done\n",
      "done\n",
      "DE18.NE done\n",
      "done\n",
      "done\n",
      "done\n",
      "done\n",
      "DE28.NE.A done\n",
      "done\n",
      "done\n",
      "done\n",
      "done\n",
      "PS14.24197-1E done\n",
      "done\n",
      "done\n",
      "done\n",
      "done\n",
      "PS15.19650-B3 done\n",
      "done\n",
      "done\n",
      "done\n",
      "done\n",
      "PS16.38634-F2 done\n",
      "finally done\n",
      "done\n"
     ]
    }
   ],
   "source": [
    "cat = 'IMC'\n",
    "\n",
    "for name in names: \n",
    "    merge_ds_mask(name, cat='IMC') # cat='IMC'\n",
    "    print(name, 'done')\n",
    "print('finally done')\n",
    "\n",
    "file_list= sorted(glob(f'Analysis/new_July_2021/ncratio_feature/dxmask/{cat}_*'))\n",
    "df_mask_column =pd.read_csv(file_list[0])\n",
    "column_names=df_mask_column.columns\n",
    "df_merg = pd.DataFrame(columns = column_names)\n",
    "\n",
    "for name in names:\n",
    "    df_next = pd.read_csv(f'Analysis/new_July_2021/ncratio_feature/dxmask/{cat}_{name}_dxmask.csv')\n",
    "    df_merg = pd.concat([df_merg,df_next], ignore_index=True)\n",
    "\n",
    "df_merg.to_csv(f'Analysis/new_July_2021/ncratio_feature/merge_maskdx_{cat}.csv')\n",
    "print('done') "
   ]
  }
 ],
 "metadata": {
  "kernelspec": {
   "display_name": "scimap_env4",
   "language": "python",
   "name": "scimap_env4"
  },
  "language_info": {
   "codemirror_mode": {
    "name": "ipython",
    "version": 3
   },
   "file_extension": ".py",
   "mimetype": "text/x-python",
   "name": "python",
   "nbconvert_exporter": "python",
   "pygments_lexer": "ipython3",
   "version": "3.8.13"
  }
 },
 "nbformat": 4,
 "nbformat_minor": 4
}
