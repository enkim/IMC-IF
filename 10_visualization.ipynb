{
 "cells": [
  {
   "cell_type": "markdown",
   "metadata": {},
   "source": [
    "# Phenotype cluster visulization "
   ]
  },
  {
   "cell_type": "raw",
   "metadata": {},
   "source": [
    "% parameter\n",
    "HE_scan = 0.22; % umm/pxl \n",
    "IMC_scan = 1.0; % umm/pxl\n",
    "IF_scan = 0.325; % umm/pxl\n",
    "\n",
    "\n",
    "# Folder tree\n",
    "/\n",
    "|-github\n",
    "|  | - Code\n",
    "|  | - Data\n",
    "|  |  | - IMC EMR (1)\n",
    "|  |  |  | - ROI001_035_PS15.19650-B3\n",
    "|  |  |  |  | - 1.Brightfield       # Original HE image \n",
    "|  |  |  |  | - 2.IF                # Original IF image \n",
    "|  |  |  |  | - 3.TIFF              # Original IMC image \n",
    "|  |  |  |  | - 4.Coordinates \n",
    "|  |  |  |  | - 5.Area mask         # Disease specific area mask \n",
    "|  |  |  |  | - registered_HE    \n",
    "|  |  |  |  | - resized_IF \n",
    "\n",
    "|  | - Analysis \n",
    "|  |  | - new_July_2021\n",
    "|  |  |  | - CZItoTiff                   # Original size images \n",
    "|  |  |  |  | - HE                       # Original size HE \n",
    "|  |  |  |  | - IF                       # Original size IF  \n",
    "|  |  |  | - IMC_Registration            # Registered IMC \n",
    "|  |  |  | - IMC_mesmer                  # IMC cell mask \n",
    "|  |  |  | - IMC_mesmer_nuc              # IMC nuclear mask \n",
    "|  |  |  | - maskmerge_mesmer_0325       # IF cell mask resized  \n",
    "|  |  |  | - maskmerge_mesmer_nuc_0325   # IF nuc mask resized \n",
    "|  |  |  | - maskmerge_mesmer_org        # IF cell mask original size \n",
    "|  |  |  | - maskmerge_mesmer_nuc_org    # IF nuc mask original size \n",
    "|  |  |  | - cluster                     # Dataframe including cluster information \n",
    "|  |  |  | - screenshot \n"
   ]
  },
  {
   "cell_type": "code",
   "execution_count": 1,
   "metadata": {},
   "outputs": [
    {
     "name": "stderr",
     "output_type": "stream",
     "text": [
      "/Users/kim/opt/anaconda3/envs/scimap_env4/lib/python3.8/site-packages/skimage/io/manage_plugins.py:23: UserWarning: Your installed pillow version is < 8.1.2. Several security issues (CVE-2021-27921, CVE-2021-25290, CVE-2021-25291, CVE-2021-25293, and more) have been fixed in pillow 8.1.2 or higher. We recommend to upgrade this library.\n",
      "  from .collection import imread_collection_wrapper\n"
     ]
    },
    {
     "name": "stdout",
     "output_type": "stream",
     "text": [
      "library loading done\n"
     ]
    }
   ],
   "source": [
    "# sccimap_env4 environment \n",
    "from dask_image.imread import imread\n",
    "from dask import delayed\n",
    "import dask.array as da\n",
    "from glob import glob\n",
    "import napari\n",
    "import numpy as np\n",
    "import os\n",
    "import pandas as pd\n",
    "import PIL\n",
    "from PIL import Image\n",
    "from skimage.io import imread,imsave\n",
    "from skimage import img_as_ubyte\n",
    "from skimage.segmentation import find_boundaries\n",
    "import time\n",
    "import warnings\n",
    "warnings.filterwarnings(action='ignore')\n",
    "Image.MAX_IMAGE_PIXELS = None\n",
    "\n",
    "def turnon(*args):\n",
    "    for Ab in args:\n",
    "        v.layers[f'{Ab}'].visible=True\n",
    "    print('Turned On done')\n",
    "def turnoff(*args):\n",
    "    for Ab in args:\n",
    "        v.layers[f'{Ab}'].visible=False\n",
    "    print('Turned Off done')\n",
    "def saveimg(name):\n",
    "    image = v.screenshot()\n",
    "    imsave(f'Analysis/new_July_2021/screenshot/{name}.png', image)\n",
    "    \n",
    "os.chdir ('/Users/kim/Data/CRUK-OHSU_onedrive final 2022-09-30/Manuscript/IMC-IF method paper/Cell_report_method_resource/github')\n",
    "\n",
    "print('library loading done')"
   ]
  },
  {
   "cell_type": "code",
   "execution_count": 2,
   "metadata": {},
   "outputs": [],
   "source": [
    "# Image adjustment \n",
    "def imageadjust_IF(): \n",
    "    v.layers['DAPI'].colormap = 'blue'\n",
    "    v.layers['DAPI'].contrast_limits = [17117, 54954]\n",
    "    v.layers['DAPI'].gamma=1.0\n",
    "    v.layers['DAPI'].opacity=0.83\n",
    "\n",
    "    v.layers['Ecad'].colormap = 'red'\n",
    "    v.layers['Ecad'].contrast_limits = [809, 10000]\n",
    "    v.layers['Ecad'].gamma=0.7\n",
    "    v.layers['Ecad'].opacity=1.0\n",
    "\n",
    "    v.layers['CD45'].colormap = 'green'\n",
    "    v.layers['CD45'].contrast_limits = [5000, 73873]\n",
    "    v.layers['CD45'].gamma=1.0\n",
    "    v.layers['CD45'].opacity=0.83\n",
    "\n",
    "    v.layers['rDAPI'].colormap = 'blue'\n",
    "    v.layers['rDAPI'].contrast_limits = [17117, 32661]\n",
    "    v.layers['rDAPI'].gamma=0.7\n",
    "    v.layers['rDAPI'].opacity=1.0\n",
    "\n",
    "    v.layers['rEcad'].colormap = 'red'\n",
    "    v.layers['rEcad'].contrast_limits = [809, 6347]\n",
    "    v.layers['rEcad'].gamma=0.44\n",
    "    v.layers['rEcad'].opacity=1.0 \n",
    "\n",
    "    v.layers['rCD45'].colormap = 'green'\n",
    "    v.layers['rCD45'].contrast_limits = [9359, 73873]\n",
    "    v.layers['rCD45'].gamma=0.58\n",
    "    v.layers['rCD45'].opacity=0.83\n",
    "\n",
    "    v.layers['rDAPI'].colormap = 'blue'\n",
    "    v.layers['rDAPI'].contrast_limits = [17117, 32661]\n",
    "    v.layers['rDAPI'].gamma=0.7\n",
    "    v.layers['rDAPI'].opacity=1.0\n",
    "\n",
    "    v.layers['rEcad'].colormap = 'red'\n",
    "    v.layers['rEcad'].contrast_limits = [809, 6347]\n",
    "    v.layers['rEcad'].gamma=0.44\n",
    "    v.layers['rEcad'].opacity=1.0 \n",
    "\n",
    "    v.layers['rCD45'].colormap = 'green'\n",
    "    v.layers['rCD45'].contrast_limits = [9359, 73873]\n",
    "    v.layers['rCD45'].gamma=0.58\n",
    "    v.layers['rCD45'].opacity=0.83\n",
    "\n",
    "    v.layers['IMC_DNA'].colormap = 'blue'\n",
    "    v.layers['IMC_DNA'].contrast_limits = [0, 100]\n",
    "    v.layers['IMC_DNA'].gamma=0.32 \n",
    "    v.layers['IMC_DNA'].opacity=0.3\n",
    "\n",
    "    v.layers['IMC_Ecad'].colormap =  'magenta'\n",
    "    v.layers['IMC_Ecad'].contrast_limits = [3, 100]\n",
    "    v.layers['IMC_Ecad'].gamma=0.1\n",
    "    v.layers['IMC_Ecad'].opacity=0.2\n",
    "    print('done')"
   ]
  },
  {
   "cell_type": "code",
   "execution_count": 3,
   "metadata": {},
   "outputs": [],
   "source": [
    "def imageadjust_IMC(): \n",
    "    #1. Epithelial cell \n",
    "    v.layers['panK'].colormap = colors[10]\n",
    "    v.layers['panK'].contrast_limits = [0, 300]\n",
    "    v.layers['panK'].gamma=0.4\n",
    "    v.layers['panK'].opacity=0.1\n",
    "\n",
    "    v.layers['CD45RO'].colormap = colors[40]\n",
    "    v.layers['CD45RO'].contrast_limits = [9, 45]\n",
    "    v.layers['CD45RO'].gamma=0.7\n",
    "    v.layers['CD45RO'].opacity=1.0\n",
    "\n",
    "    #2. proliferating-mutatation  \n",
    "    v.layers['p53'].colormap = colors[0]\n",
    "    v.layers['p53'].contrast_limits = [0.8, 202]\n",
    "    v.layers['p53'].gamma=0.42\n",
    "    v.layers['p53'].opacity=1.0 \n",
    "\n",
    "    v.layers['Ki67'].colormap =  colors[49]  \n",
    "    v.layers['Ki67'].contrast_limits = [4.5, 50]\n",
    "    v.layers['Ki67'].gamma=0.2\n",
    "    v.layers['Ki67'].opacity=1.0 \n",
    "\n",
    "    # 3. Stromal -vascular cell  \n",
    "    v.layers['Col1'].colormap = colors[8] \n",
    "    v.layers['Col1'].contrast_limits = [9, 76]\n",
    "    v.layers['Col1'].gamma=2.0\n",
    "    v.layers['Col1'].opacity=0.86\n",
    "\n",
    "    v.layers['aSMA'].colormap = colors[7]\n",
    "    v.layers['aSMA'].contrast_limits = [34.7,121]\n",
    "    v.layers['aSMA'].gamma=1.04\n",
    "    v.layers['aSMA'].opacity=0.26\n",
    "\n",
    "    v.layers['CD31'].colormap = colors[1]\n",
    "    v.layers['CD31'].contrast_limits = [2, 40.0]\n",
    "    v.layers['CD31'].gamma=0.25\n",
    "    v.layers['CD31'].opacity=0.94\n",
    "\n",
    "    #4. Lymphoid Lineage  \n",
    "    v.layers['CD3'].colormap = colors[37]\n",
    "    v.layers['CD3'].contrast_limits = [5, 370]\n",
    "    v.layers['CD3'].gamma=0.2\n",
    "    v.layers['CD3'].opacity=1.0\n",
    "\n",
    "    v.layers['CD4'].colormap = colors[30] \n",
    "    v.layers['CD4'].contrast_limits = [2.0, 27]\n",
    "    v.layers['CD4'].gamma=0.464\n",
    "    v.layers['CD4'].opacity=1.0\n",
    "\n",
    "    v.layers['CCR3'].colormap = colors[27] \n",
    "    v.layers['CCR3'].contrast_limits = [0.0,103]\n",
    "    v.layers['CCR3'].gamma=0.728\n",
    "    v.layers['CCR3'].opacity=1.0\n",
    "\n",
    "    v.layers['CCR7'].colormap = colors[45] \n",
    "    v.layers['CCR7'].contrast_limits = [0, 265]\n",
    "    v.layers['CCR7'].gamma=2.0 \n",
    "    v.layers['CCR7'].opacity=0.16 \n",
    "\n",
    "    #5. T cell, Functioning Cell \n",
    "    v.layers['CD56'].colormap = colors[13] \n",
    "    v.layers['CD56'].contrast_limits = [15.7, 45.0]\n",
    "    v.layers['CD56'].gamma=0.464\n",
    "    v.layers['CD56'].opacity=0.97 \n",
    "\n",
    "    v.layers['CD8a'].colormap = colors[9] \n",
    "    v.layers['CD8a'].contrast_limits = [2.5, 40.54]\n",
    "    v.layers['CD8a'].gamma=1.088\n",
    "    v.layers['CD8a'].opacity=1.0\n",
    "\n",
    "    v.layers['GranB'].colormap = colors[42] \n",
    "    v.layers['GranB'].contrast_limits = [4.5, 112.0]\n",
    "    v.layers['GranB'].gamma=0.2\n",
    "    v.layers['GranB'].opacity=1.0\n",
    "\n",
    "    #6. Lymphoid cells - regulatory or exausted \n",
    "    v.layers['ICOS'].colormap = colors[6] \n",
    "    v.layers['ICOS'].contrast_limits = [0.8, 95]\n",
    "    v.layers['ICOS'].gamma=0.56\n",
    "    v.layers['ICOS'].opacity=1.0\n",
    "\n",
    "    v.layers['TIM3'].colormap = colors[11] \n",
    "    v.layers['TIM3'].contrast_limits = [1.7, 31.5]\n",
    "    v.layers['TIM3'].gamma=0.608\n",
    "    v.layers['TIM3'].opacity=0.5 \n",
    "\n",
    "    v.layers['LAG3'].colormap = colors[18] \n",
    "    v.layers['LAG3'].contrast_limits = [0.8, 40.54]\n",
    "    v.layers['LAG3'].gamma=0.44\n",
    "    v.layers['LAG3'].opacity=0.5 \n",
    "\n",
    "    v.layers['CTLA4'].colormap = colors[22] #    \n",
    "    v.layers['CTLA4'].contrast_limits = [2.0, 19.0]\n",
    "    v.layers['CTLA4'].gamma=0.42\n",
    "    v.layers['CTLA4'].opacity=0.5 \n",
    "\n",
    "    v.layers['Foxp3'].colormap = colors[24]  \n",
    "    v.layers['Foxp3'].contrast_limits = [0.8, 112.6]\n",
    "    v.layers['Foxp3'].gamma= 0.416\n",
    "\n",
    "    v.layers['PD1'].colormap = colors[38]  \n",
    "    v.layers['PD1'].contrast_limits = [1.7, 43.8]\n",
    "    v.layers['PD1'].gamma=0.59\n",
    "\n",
    "    v.layers['CD38'].colormap = colors[30] \n",
    "    v.layers['CD38'].contrast_limits = [2.5, 48.8]\n",
    "    v.layers['CD38'].gamma=0.3\n",
    "    v.layers['CD38'].opacity=0.5 \n",
    "\n",
    "    #8 Myeloid- Neutrophil  \n",
    "    v.layers['CD11b'].colormap = colors[5] \n",
    "    v.layers['CD11b'].contrast_limits = [6.6, 19.0]\n",
    "    v.layers['CD11b'].gamma=1.23\n",
    "\n",
    "    v.layers['CD16'].colormap =  colors[35] \n",
    "    v.layers['CD16'].contrast_limits = [2.0, 16.5]\n",
    "    v.layers['CD16'].gamma=0.34\n",
    "\n",
    "    v.layers['Tryptas'].colormap = colors[26] \n",
    "    v.layers['Tryptas'].contrast_limits = [0.0, 500.0]\n",
    "    v.layers['Tryptas'].gamma=1.53\n",
    "    v.layers['Tryptas'].opacity=0.3 \n",
    "\n",
    "    #9 Myeloid Lineage - macrophage \n",
    "    v.layers['CD11c'].colormap =colors[2] \n",
    "    v.layers['CD11c'].contrast_limits = [5.0, 74.4]\n",
    "    v.layers['CD11c'].gamma=0.49\n",
    "\n",
    "    v.layers['CD14'].colormap = colors[46]  \n",
    "    v.layers['CD14'].contrast_limits = [6, 279]\n",
    "    v.layers['CD14'].gamma=0.32\n",
    "    v.layers['CD14'].opacity=1.0\n",
    "\n",
    "    v.layers['HLA-DR'].colormap = colors[48] \n",
    "    v.layers['HLA-DR'].contrast_limits = [5.0, 91.7]\n",
    "    v.layers['HLA-DR'].gamma=0.49\n",
    "\n",
    "    v.layers['CD68'].colormap = colors[44] \n",
    "    v.layers['CD68'].contrast_limits = [10.7, 162.0]\n",
    "    v.layers['CD68'].gamma=0.776\n",
    "    v.layers['CD68'].opacity=1.0\n",
    "\n",
    "    v.layers['CD163'].colormap = colors[15]  \n",
    "    v.layers['CD163'].contrast_limits = [1.0, 24.0]\n",
    "    v.layers['CD163'].gamma=0.49\n",
    "\n",
    "    v.layers['CSF1R'].colormap = colors[19]  \n",
    "    v.layers['CSF1R'].contrast_limits = [10, 95.0]\n",
    "    v.layers['CSF1R'].gamma=1.32 \n",
    "\n",
    "    v.layers['CD206'].colormap = colors[33]  \n",
    "    v.layers['CD206'].contrast_limits = [0.8, 33.9]\n",
    "    v.layers['CD206'].gamma=0.44\n",
    "\n",
    "    v.layers['CD1a'].colormap =colors[32]   \n",
    "    v.layers['CD1a'].contrast_limits = [4.1, 23.1]\n",
    "    v.layers['CD1a'].gamma=1.52\n",
    "\n",
    "    #10 T cell inhibition : blue\n",
    "    v.layers['PDL1'].colormap = colors[21]  \n",
    "    v.layers['PDL1'].contrast_limits = [2.5, 29.8]\n",
    "    v.layers['PDL1'].gamma=0.52\n",
    "\n",
    "    v.layers['VISTA'].colormap = colors[29]  \n",
    "    v.layers['VISTA'].contrast_limits = [3.0, 22.3]\n",
    "    v.layers['VISTA'].gamma=0.52\n",
    "    print('done')"
   ]
  },
  {
   "cell_type": "code",
   "execution_count": 4,
   "metadata": {},
   "outputs": [],
   "source": [
    "def imageadjust_crop(): \n",
    "    # Image adjustment \n",
    "    v.layers['DAPI_crop'].colormap = 'blue'\n",
    "    v.layers['DAPI_crop'].gamma = 0.76\n",
    "    v.layers['DAPI_crop'].opacity = 0.87\n",
    "    v.layers['DAPI_crop'].contrast_limits = [9217,54954]\n",
    "\n",
    "    v.layers['Ecad_crop'].colormap = 'red'\n",
    "    v.layers['Ecad_crop'].gamma = 0.85\n",
    "    v.layers['Ecad_crop'].opacity = 1.00\n",
    "    v.layers['Ecad_crop'].contrast_limits = [809,25004]\n",
    "\n",
    "    # DAPI Ecad gray-red version \n",
    "    v.layers['DAPI_crop'].colormap = 'gray' \n",
    "    v.layers['DAPI_crop'].contrast_limits = [650.0, 100000.0] # 54954\n",
    "    v.layers['DAPI_crop'].gamma= .728\n",
    "    v.layers['DAPI_crop'].opacity=1.0 \n",
    "\n",
    "    v.layers['Ecad_crop'].colormap = 'red' \n",
    "    v.layers['Ecad_crop'].contrast_limits = [809.0, 18486] \n",
    "    v.layers['Ecad_crop'].gamma=  0.728\n",
    "    v.layers['Ecad_crop'].opacity=1.0 \n",
    "\n",
    "    v.layers['IF_cell_b_crop'].colormap = 'green' \n",
    "    v.layers['IF_nuc_b_crop'].opacity = 0.55\n",
    "    v.layers['IF_cell_b_crop'].opacity = 0.55 "
   ]
  },
  {
   "cell_type": "markdown",
   "metadata": {},
   "source": [
    "### Sample select"
   ]
  },
  {
   "cell_type": "code",
   "execution_count": 5,
   "metadata": {},
   "outputs": [
    {
     "name": "stdout",
     "output_type": "stream",
     "text": [
      "sample name: PS15.19650-B3\n"
     ]
    }
   ],
   "source": [
    "files=sorted(glob('Analysis/new_July_2021/maskmerge_mesmer_0325/*'))\n",
    "names=[file.split('/')[-1].replace('.tiff','') for file in files]\n",
    "n=3\n",
    "name=names[n]\n",
    "pt=name.split('.')[0]\n",
    "print('sample name:', name) "
   ]
  },
  {
   "cell_type": "markdown",
   "metadata": {},
   "source": [
    "### Image loading "
   ]
  },
  {
   "cell_type": "code",
   "execution_count": 6,
   "metadata": {},
   "outputs": [
    {
     "name": "stdout",
     "output_type": "stream",
     "text": [
      "original IF image size:  (42517, 20448)\n"
     ]
    }
   ],
   "source": [
    "# original images\n",
    "IF = imread(f'Analysis/new_July_2021/CZItoTiff/IF/{name}.czi.tif')\n",
    "DAPI=IF[:,:,0]\n",
    "Ecad=IF[:,:,1] \n",
    "CD45=IF[:,:,2]\n",
    "print('original IF image size: ', DAPI.shape)"
   ]
  },
  {
   "cell_type": "code",
   "execution_count": 7,
   "metadata": {},
   "outputs": [
    {
     "name": "stdout",
     "output_type": "stream",
     "text": [
      "resized IF image size:  (13819, 6646)\n"
     ]
    }
   ],
   "source": [
    "# resized IF images    \n",
    "rDAPI = imread(glob(f'Data/IMC EMR (1)/*{name}*/resized_IF/*{name}*_DAPI.tif')[0]) \n",
    "rEcad = imread(glob(f'Data/IMC EMR (1)/*{name}*/resized_IF/*{name}*_Ecad.tif')[0]) \n",
    "rCD45 = imread(glob(f'Data/IMC EMR (1)/*{name}*/resized_IF/*{name}*_CD45.tif')[0]) \n",
    "print('resized IF image size: ', rDAPI.shape)"
   ]
  },
  {
   "cell_type": "code",
   "execution_count": 8,
   "metadata": {},
   "outputs": [
    {
     "name": "stdout",
     "output_type": "stream",
     "text": [
      "registered IMC image size:  (13819, 6646)\n"
     ]
    }
   ],
   "source": [
    "# Registered IMC images \n",
    "IMC_DNA = imread(glob(f'Analysis/new_July_2021/IMC_Registration/*{name}*/*191_DNA*')[0])\n",
    "IMC_Ecad = imread(glob(f'Analysis/new_July_2021/IMC_Registration/*{name}*/*E-Ca*')[0])\n",
    "print('registered IMC image size: ', IMC_DNA.shape)"
   ]
  },
  {
   "cell_type": "code",
   "execution_count": 9,
   "metadata": {},
   "outputs": [
    {
     "name": "stdout",
     "output_type": "stream",
     "text": [
      "done\n"
     ]
    }
   ],
   "source": [
    "# Original IF size nuc/cell mask  : IF_cell_b / IF_nuc_b \n",
    "\n",
    "IF_mesmer_org =  imread(f'Analysis/new_July_2021/maskmerge_mesmer_org/{name}.tiff') \n",
    "IF_cell_b = img_as_ubyte(find_boundaries(IF_mesmer_org))\n",
    "\n",
    "IF_nuc_org= imread(f'Analysis/new_July_2021/maskmerge_mesmer_nuc_org/{name}.tiff') \n",
    "IF_rim = np.where(IF_nuc_org != 0, 0, IF_mesmer_org)\n",
    "IF_nuc_final = np.where(IF_rim !=0, 0, IF_mesmer_org)\n",
    "IF_nuc_b=  img_as_ubyte(find_boundaries(IF_nuc_final))\n",
    "\n",
    "# Resized IF mesmer mask  : IF_cell_0325_b / IF_nuc_0325_b \n",
    "IF_mesmer = imread(f'Analysis/new_July_2021/maskmerge_mesmer_0325/{name}.tiff') \n",
    "IF_cell_0325_b = img_as_ubyte(find_boundaries(IF_mesmer))\n",
    "\n",
    "IF_nuc_0325= imread(f'Analysis/new_July_2021/maskmerge_mesmer_nuc_0325/{name}.tiff') \n",
    "IF_nuc_0325_b=  img_as_ubyte(find_boundaries(IF_nuc_0325))\n",
    "\n",
    "# IMC nuc/cell mask  : IMC_cell_b / IMC_nuc_b \n",
    "IMC_cell = imread(f'Analysis/new_July_2021/IMC_mesmer/{pt}.tiff') \n",
    "IMC_cell_b = img_as_ubyte(find_boundaries(IMC_cell))\n",
    "\n",
    "IMC_nuc = imread(f'Analysis/new_July_2021/IMC_mesmer_nuc/{pt}.tiff')\n",
    "IMC_rim = np.where(IMC_nuc != 0, 0, IMC_cell) # rim (cell- nuc) \n",
    "IMC_nuc_final = np.where(IMC_rim !=0, 0, IMC_cell)\n",
    "IMC_nuc_b = img_as_ubyte(find_boundaries(IMC_nuc_final))\n",
    "\n",
    "print('done')"
   ]
  },
  {
   "cell_type": "markdown",
   "metadata": {},
   "source": [
    "### Napari visualization "
   ]
  },
  {
   "cell_type": "code",
   "execution_count": 10,
   "metadata": {},
   "outputs": [],
   "source": [
    "v = napari.Viewer() "
   ]
  },
  {
   "cell_type": "markdown",
   "metadata": {},
   "source": [
    "### Original IF, resized IF, Registered IMC loading "
   ]
  },
  {
   "cell_type": "code",
   "execution_count": 11,
   "metadata": {},
   "outputs": [
    {
     "data": {
      "text/plain": [
       "<Image layer 'IMC_Ecad' at 0x7fa31abe2fd0>"
      ]
     },
     "execution_count": 11,
     "metadata": {},
     "output_type": "execute_result"
    }
   ],
   "source": [
    "v.add_image(DAPI, name='DAPI',colormap='blue',blending='additive',visible=False);\n",
    "v.add_image(Ecad, name='Ecad',colormap='yellow',blending='additive',visible=False);\n",
    "v.add_image(CD45, name='CD45',colormap='green',blending='additive',visible=False);\n",
    "\n",
    "v.add_image(rDAPI, name='rDAPI',blending='additive',visible=False);\n",
    "v.add_image(rEcad, name='rEcad',blending='additive',visible=False);\n",
    "v.add_image(rCD45, name='rCD45',blending='additive',visible=False);\n",
    "\n",
    "v.add_image(IMC_DNA, name='IMC_DNA',blending='additive',visible=False );\n",
    "v.add_image(IMC_Ecad, name='IMC_Ecad',blending='additive',visible=False )"
   ]
  },
  {
   "cell_type": "markdown",
   "metadata": {},
   "source": [
    "### Nuclear/Cell mask loading"
   ]
  },
  {
   "cell_type": "code",
   "execution_count": 12,
   "metadata": {},
   "outputs": [
    {
     "name": "stdout",
     "output_type": "stream",
     "text": [
      "done\n"
     ]
    }
   ],
   "source": [
    "v.add_image(IF_cell_0325_b, name='IF_cell_0325_b',blending='additive',visible=False, colormap = 'yellow');\n",
    "v.add_image(IF_nuc_0325_b, name='IF_nuc_0325_b',blending='additive',visible=False,colormap = 'green' );\n",
    "\n",
    "v.add_image(IMC_cell_b, name='IMC_cell_b',blending='additive',visible=False, colormap = 'cyan');\n",
    "v.add_image(IMC_nuc_b, name='IMC_nuc_b',blending='additive',visible=False, colormap = 'gray');\n",
    "\n",
    "print('done') "
   ]
  },
  {
   "cell_type": "markdown",
   "metadata": {},
   "source": [
    "### IMC 36 antibody visualization with 36 colors "
   ]
  },
  {
   "cell_type": "code",
   "execution_count": 13,
   "metadata": {},
   "outputs": [],
   "source": [
    "img_fn=f'Analysis/new_July_2021/IMC_Registration/*{name}*/*.tiff'\n",
    "fn= glob(img_fn)\n",
    "abname = [i.split('/')[-1].split('_')[-1].strip('.ome.tiff') for i in (glob(img_fn))] # Ab name "
   ]
  },
  {
   "cell_type": "code",
   "execution_count": 14,
   "metadata": {},
   "outputs": [
    {
     "data": {
      "text/html": [
       "<table>\n",
       "<tr>\n",
       "<td>\n",
       "<table>\n",
       "  <thead>\n",
       "    <tr><td> </td><th> Array </th><th> Chunk </th></tr>\n",
       "  </thead>\n",
       "  <tbody>\n",
       "    <tr><th> Bytes </th><td> 8.63 GB </td> <td> 183.68 MB </td></tr>\n",
       "    <tr><th> Shape </th><td> (47, 13819, 6646) </td> <td> (1, 13819, 6646) </td></tr>\n",
       "    <tr><th> Count </th><td> 141 Tasks </td><td> 47 Chunks </td></tr>\n",
       "    <tr><th> Type </th><td> uint16 </td><td> numpy.ndarray </td></tr>\n",
       "  </tbody>\n",
       "</table>\n",
       "</td>\n",
       "<td>\n",
       "<svg width=\"132\" height=\"184\" style=\"stroke:rgb(0,0,0);stroke-width:1\" >\n",
       "\n",
       "  <!-- Horizontal lines -->\n",
       "  <line x1=\"10\" y1=\"0\" x2=\"24\" y2=\"14\" style=\"stroke-width:2\" />\n",
       "  <line x1=\"10\" y1=\"120\" x2=\"24\" y2=\"134\" style=\"stroke-width:2\" />\n",
       "\n",
       "  <!-- Vertical lines -->\n",
       "  <line x1=\"10\" y1=\"0\" x2=\"10\" y2=\"120\" style=\"stroke-width:2\" />\n",
       "  <line x1=\"10\" y1=\"0\" x2=\"10\" y2=\"120\" />\n",
       "  <line x1=\"11\" y1=\"1\" x2=\"11\" y2=\"121\" />\n",
       "  <line x1=\"12\" y1=\"2\" x2=\"12\" y2=\"122\" />\n",
       "  <line x1=\"12\" y1=\"2\" x2=\"12\" y2=\"122\" />\n",
       "  <line x1=\"13\" y1=\"3\" x2=\"13\" y2=\"123\" />\n",
       "  <line x1=\"14\" y1=\"4\" x2=\"14\" y2=\"124\" />\n",
       "  <line x1=\"15\" y1=\"5\" x2=\"15\" y2=\"125\" />\n",
       "  <line x1=\"16\" y1=\"6\" x2=\"16\" y2=\"126\" />\n",
       "  <line x1=\"16\" y1=\"6\" x2=\"16\" y2=\"126\" />\n",
       "  <line x1=\"17\" y1=\"7\" x2=\"17\" y2=\"127\" />\n",
       "  <line x1=\"18\" y1=\"8\" x2=\"18\" y2=\"128\" />\n",
       "  <line x1=\"19\" y1=\"9\" x2=\"19\" y2=\"129\" />\n",
       "  <line x1=\"20\" y1=\"10\" x2=\"20\" y2=\"130\" />\n",
       "  <line x1=\"20\" y1=\"10\" x2=\"20\" y2=\"130\" />\n",
       "  <line x1=\"21\" y1=\"11\" x2=\"21\" y2=\"131\" />\n",
       "  <line x1=\"22\" y1=\"12\" x2=\"22\" y2=\"132\" />\n",
       "  <line x1=\"23\" y1=\"13\" x2=\"23\" y2=\"133\" />\n",
       "  <line x1=\"23\" y1=\"13\" x2=\"23\" y2=\"133\" />\n",
       "  <line x1=\"24\" y1=\"14\" x2=\"24\" y2=\"134\" style=\"stroke-width:2\" />\n",
       "\n",
       "  <!-- Colored Rectangle -->\n",
       "  <polygon points=\"10.0,0.0 24.9485979497544,14.948597949754403 24.9485979497544,134.9485979497544 10.0,120.0\" style=\"fill:#8B4903A0;stroke-width:0\"/>\n",
       "\n",
       "  <!-- Horizontal lines -->\n",
       "  <line x1=\"10\" y1=\"0\" x2=\"67\" y2=\"0\" style=\"stroke-width:2\" />\n",
       "  <line x1=\"10\" y1=\"0\" x2=\"68\" y2=\"0\" />\n",
       "  <line x1=\"11\" y1=\"1\" x2=\"68\" y2=\"1\" />\n",
       "  <line x1=\"12\" y1=\"2\" x2=\"69\" y2=\"2\" />\n",
       "  <line x1=\"12\" y1=\"2\" x2=\"70\" y2=\"2\" />\n",
       "  <line x1=\"13\" y1=\"3\" x2=\"71\" y2=\"3\" />\n",
       "  <line x1=\"14\" y1=\"4\" x2=\"72\" y2=\"4\" />\n",
       "  <line x1=\"15\" y1=\"5\" x2=\"73\" y2=\"5\" />\n",
       "  <line x1=\"16\" y1=\"6\" x2=\"73\" y2=\"6\" />\n",
       "  <line x1=\"16\" y1=\"6\" x2=\"74\" y2=\"6\" />\n",
       "  <line x1=\"17\" y1=\"7\" x2=\"75\" y2=\"7\" />\n",
       "  <line x1=\"18\" y1=\"8\" x2=\"76\" y2=\"8\" />\n",
       "  <line x1=\"19\" y1=\"9\" x2=\"76\" y2=\"9\" />\n",
       "  <line x1=\"20\" y1=\"10\" x2=\"77\" y2=\"10\" />\n",
       "  <line x1=\"20\" y1=\"10\" x2=\"78\" y2=\"10\" />\n",
       "  <line x1=\"21\" y1=\"11\" x2=\"79\" y2=\"11\" />\n",
       "  <line x1=\"22\" y1=\"12\" x2=\"80\" y2=\"12\" />\n",
       "  <line x1=\"23\" y1=\"13\" x2=\"81\" y2=\"13\" />\n",
       "  <line x1=\"23\" y1=\"13\" x2=\"81\" y2=\"13\" />\n",
       "  <line x1=\"24\" y1=\"14\" x2=\"82\" y2=\"14\" style=\"stroke-width:2\" />\n",
       "\n",
       "  <!-- Vertical lines -->\n",
       "  <line x1=\"10\" y1=\"0\" x2=\"24\" y2=\"14\" style=\"stroke-width:2\" />\n",
       "  <line x1=\"67\" y1=\"0\" x2=\"82\" y2=\"14\" style=\"stroke-width:2\" />\n",
       "\n",
       "  <!-- Colored Rectangle -->\n",
       "  <polygon points=\"10.0,0.0 67.71184600911789,0.0 82.66044395887229,14.948597949754403 24.9485979497544,14.948597949754403\" style=\"fill:#8B4903A0;stroke-width:0\"/>\n",
       "\n",
       "  <!-- Horizontal lines -->\n",
       "  <line x1=\"24\" y1=\"14\" x2=\"82\" y2=\"14\" style=\"stroke-width:2\" />\n",
       "  <line x1=\"24\" y1=\"134\" x2=\"82\" y2=\"134\" style=\"stroke-width:2\" />\n",
       "\n",
       "  <!-- Vertical lines -->\n",
       "  <line x1=\"24\" y1=\"14\" x2=\"24\" y2=\"134\" style=\"stroke-width:2\" />\n",
       "  <line x1=\"82\" y1=\"14\" x2=\"82\" y2=\"134\" style=\"stroke-width:2\" />\n",
       "\n",
       "  <!-- Colored Rectangle -->\n",
       "  <polygon points=\"24.9485979497544,14.948597949754403 82.66044395887229,14.948597949754403 82.66044395887229,134.9485979497544 24.9485979497544,134.9485979497544\" style=\"fill:#ECB172A0;stroke-width:0\"/>\n",
       "\n",
       "  <!-- Text -->\n",
       "  <text x=\"53.804521\" y=\"154.948598\" font-size=\"1.0rem\" font-weight=\"100\" text-anchor=\"middle\" >6646</text>\n",
       "  <text x=\"102.660444\" y=\"74.948598\" font-size=\"1.0rem\" font-weight=\"100\" text-anchor=\"middle\" transform=\"rotate(-90,102.660444,74.948598)\">13819</text>\n",
       "  <text x=\"7.474299\" y=\"147.474299\" font-size=\"1.0rem\" font-weight=\"100\" text-anchor=\"middle\" transform=\"rotate(45,7.474299,147.474299)\">47</text>\n",
       "</svg>\n",
       "</td>\n",
       "</tr>\n",
       "</table>"
      ],
      "text/plain": [
       "dask.array<stack, shape=(47, 13819, 6646), dtype=uint16, chunksize=(1, 13819, 6646), chunktype=numpy.ndarray>"
      ]
     },
     "execution_count": 14,
     "metadata": {},
     "output_type": "execute_result"
    }
   ],
   "source": [
    "# Sanity check \n",
    "filenames = (glob(img_fn))\n",
    "sample = imread(filenames[0])\n",
    "\n",
    "lazy_imread = delayed(imread)  # lazy reader\n",
    "lazy_arrays = [lazy_imread(fn) for fn in filenames]\n",
    "dask_arrays = [\n",
    "    da.from_delayed(delayed_reader, shape=sample.shape, dtype=sample.dtype)\n",
    "    for delayed_reader in lazy_arrays\n",
    "]\n",
    "# Stack into one large dask.array\n",
    "stack = da.stack(dask_arrays, axis=0)\n",
    "stack.shape  # (nfiles, nz, ny, nx)\n",
    "stack"
   ]
  },
  {
   "cell_type": "code",
   "execution_count": 15,
   "metadata": {},
   "outputs": [
    {
     "name": "stdout",
     "output_type": "stream",
     "text": [
      "CPU times: user 3 µs, sys: 0 ns, total: 3 µs\n",
      "Wall time: 4.77 µs\n",
      "done\n"
     ]
    }
   ],
   "source": [
    "%time\n",
    "# Load using dask_image\n",
    "img = imread(img_fn)\n",
    "\n",
    "v.add_image(img, \n",
    "            channel_axis=0,\n",
    "            name=abname,\n",
    "            visible=True, # If True, napari will load all images into view at once\n",
    "            multiscale=False, # If True, napari will compute the pyramid of your image\n",
    "            contrast_limits=[0, 500])\n",
    "\n",
    "remove=['131X', '138Ba' ,'DNA', '134X', '208Pb','133Cs',  'DNA [1]', '80ArAr',   '127I', '140C', 'CD14 [1]','E-Cad', ] \n",
    "\n",
    "for r in remove: \n",
    "    v.layers.remove(r) \n",
    "print('done')"
   ]
  },
  {
   "cell_type": "code",
   "execution_count": 17,
   "metadata": {},
   "outputs": [
    {
     "name": "stdout",
     "output_type": "stream",
     "text": [
      "CPU times: user 1e+03 ns, sys: 0 ns, total: 1e+03 ns\n",
      "Wall time: 3.81 µs\n"
     ]
    },
    {
     "data": {
      "image/png": "[encoded data removed]",
      "text/html": [
       "<div style=\"vertical-align: middle;\"><strong>hsv</strong> </div><div class=\"cmap\"><img alt=\"hsv colormap\" title=\"hsv\" style=\"border: 1px solid #555;\" src=\"data:image/png;base64,iVBORw0KGgoAAAANSUhEUgAAAgAAAABACAYAAABsv8+/AAAAEnRFWHRUaXRsZQBoc3YgY29sb3JtYXDsNE57AAAAGHRFWHREZXNjcmlwdGlvbgBoc3YgY29sb3JtYXDgHDwhAAAAMHRFWHRBdXRob3IATWF0cGxvdGxpYiB2My41LjEsIGh0dHBzOi8vbWF0cGxvdGxpYi5vcmf3t87PAAAAMnRFWHRTb2Z0d2FyZQBNYXRwbG90bGliIHYzLjUuMSwgaHR0cHM6Ly9tYXRwbG90bGliLm9yZ9kRUegAAAGZSURBVHic7dYxSgRBFEXRUlM1NBLd/7IUDEUzE2Xcwm8oafCeEz+6GqZ6uFeXtS5r6mm4e968m577F2cPdz+Ps9377fDctdbL5t3r5ucd2e5+x491N9pdDl2esy74dLfW9nf8Hl7c3T/gkWeedckOPPPmbbZ7+Jrtdt/EI9uzvoIj2/v1OdpdnXbJ1tr/j7v/Ha/HSwDg3xAAABAkAAAgSAAAQJAAAIAgAQAAQQIAAIIEAAAECQAACBIAABAkAAAgSAAAQJAAAIAgAQAAQQIAAIIEAAAECQAACBIAABAkAAAgSAAAQJAAAIAgAQAAQQIAAIIEAAAECQAACBIAABAkAAAgSAAAQJAAAIAgAQAAQQIAAIIEAAAECQAACBIAABAkAAAgSAAAQJAAAIAgAQAAQQIAAIIEAAAECQAACBIAABAkAAAgSAAAQJAAAIAgAQAAQQIAAIIEAAAECQAACBIAABAkAAAgSAAAQJAAAIAgAQAAQQIAAIIEAAAECQAACBIAABAkAAAgSAAAQJAAAIAgAQAAQQIAAIJ+ATAaH5UL7qlwAAAAAElFTkSuQmCC\"></div><div style=\"vertical-align: middle; max-width: 514px; display: flex; justify-content: space-between;\"><div style=\"float: left;\"><div title=\"#ff0000ff\" style=\"display: inline-block; width: 1em; height: 1em; margin: 0; vertical-align: middle; border: 1px solid #555; background-color: #ff0000ff;\"></div> under</div><div style=\"margin: 0 auto; display: inline-block;\">bad <div title=\"#00000000\" style=\"display: inline-block; width: 1em; height: 1em; margin: 0; vertical-align: middle; border: 1px solid #555; background-color: #00000000;\"></div></div><div style=\"float: right;\">over <div title=\"#ff0018ff\" style=\"display: inline-block; width: 1em; height: 1em; margin: 0; vertical-align: middle; border: 1px solid #555; background-color: #ff0018ff;\"></div></div>"
      ],
      "text/plain": [
       "<matplotlib.colors.LinearSegmentedColormap at 0x7fa31c10e640>"
      ]
     },
     "execution_count": 17,
     "metadata": {},
     "output_type": "execute_result"
    }
   ],
   "source": [
    "%time\n",
    "# arrange colorset \n",
    "from matplotlib import cm\n",
    "hsv_new = cm.get_cmap('hsv', 50)\n",
    "hc= hsv_new(range(50))\n",
    "colors= [tuple(c) for c in hc ]\n",
    "# random.shuffle(colors)\n",
    "hsv_new"
   ]
  },
  {
   "cell_type": "code",
   "execution_count": 18,
   "metadata": {},
   "outputs": [
    {
     "name": "stdout",
     "output_type": "stream",
     "text": [
      "done\n"
     ]
    }
   ],
   "source": [
    "imageadjust_IMC()"
   ]
  },
  {
   "cell_type": "code",
   "execution_count": 19,
   "metadata": {},
   "outputs": [
    {
     "name": "stdout",
     "output_type": "stream",
     "text": [
      "Turned Off done\n"
     ]
    }
   ],
   "source": [
    "allimg= list(map(str, v.layers))\n",
    "turnoff(*allimg)"
   ]
  },
  {
   "cell_type": "code",
   "execution_count": 20,
   "metadata": {},
   "outputs": [
    {
     "name": "stdout",
     "output_type": "stream",
     "text": [
      "Turned On done\n"
     ]
    }
   ],
   "source": [
    "turnon(*allimg)"
   ]
  },
  {
   "cell_type": "code",
   "execution_count": 21,
   "metadata": {},
   "outputs": [
    {
     "name": "stdout",
     "output_type": "stream",
     "text": [
      "Turned Off done\n"
     ]
    }
   ],
   "source": [
    "turnoff(*allimg)"
   ]
  },
  {
   "cell_type": "markdown",
   "metadata": {},
   "source": [
    "### IMC 36 antibodies turnon "
   ]
  },
  {
   "cell_type": "code",
   "execution_count": 22,
   "metadata": {},
   "outputs": [
    {
     "name": "stdout",
     "output_type": "stream",
     "text": [
      "Turned On done\n"
     ]
    }
   ],
   "source": [
    "orgIF = ['DAPI','Ecad','CD45']\n",
    "rIF = ['rDAPI','rCD45','rEcad']\n",
    "rIMC = ['IMC_DNA','IMC_Ecad']\n",
    "masks = ['IF_nuc_b','IF_cell_b','IMC_nuc_b','IMC_cell_b'] \n",
    "IMC = [x for x in abname if x not in remove]\n",
    "\n",
    "\n",
    "IMCist=['Foxp3', 'CD16', 'CD8a', 'p53', 'CD163', 'CD11b', \n",
    "        'CD206', 'CD4', 'Col1', 'CD11c', 'GranB', 'CD20', 'CD68', 'PD1', \n",
    "        'Tryptas', 'TIM3', 'panK', 'CCR7', 'Ki67', 'aSMA', 'CD45RO', 'HLA-DR', 'CD3', 'CD31',\n",
    "        'CTLA4', 'CD56', 'CCR3', 'VISTA', 'CD38', 'LAG3', 'CD14', 'CD1a', 'PDL1', 'ICOS', 'CSF1R']\n",
    "turnon(*IMCist)"
   ]
  },
  {
   "cell_type": "markdown",
   "metadata": {},
   "source": [
    "### Registered HE overlay"
   ]
  },
  {
   "cell_type": "code",
   "execution_count": 23,
   "metadata": {},
   "outputs": [
    {
     "name": "stdout",
     "output_type": "stream",
     "text": [
      "registered HE size: (13819, 6646, 3)\n",
      "HE loading done\n"
     ]
    }
   ],
   "source": [
    "if n!=4:\n",
    "    rHE = imread(glob(f'Data/IMC EMR (1)/*{name}*/registered_HE/*{name}*')[0]) \n",
    "    print('registered HE size:', rHE.shape)\n",
    "else: \n",
    "    rHE = np.zeros(rDAPI.shape)\n",
    "    print('registered HE size:', rHE.shape)\n",
    "print('HE loading done')\n",
    "\n",
    "v.add_image(rHE, name='rHE',blending='additive',visible=True, opacity=0.3);"
   ]
  },
  {
   "cell_type": "markdown",
   "metadata": {},
   "source": [
    "# Figure 2A Whole area visualization with registration "
   ]
  },
  {
   "cell_type": "code",
   "execution_count": 28,
   "metadata": {},
   "outputs": [
    {
     "name": "stdout",
     "output_type": "stream",
     "text": [
      "Turned Off done\n"
     ]
    }
   ],
   "source": [
    "allimg= list(map(str, v.layers))\n",
    "turnoff(*allimg)"
   ]
  },
  {
   "cell_type": "code",
   "execution_count": 29,
   "metadata": {},
   "outputs": [
    {
     "name": "stdout",
     "output_type": "stream",
     "text": [
      "Turned On done\n"
     ]
    }
   ],
   "source": [
    "turnon (*rIF)"
   ]
  },
  {
   "cell_type": "code",
   "execution_count": 30,
   "metadata": {},
   "outputs": [
    {
     "name": "stdout",
     "output_type": "stream",
     "text": [
      "done\n"
     ]
    }
   ],
   "source": [
    "imageadjust_IF()"
   ]
  },
  {
   "cell_type": "code",
   "execution_count": 31,
   "metadata": {},
   "outputs": [
    {
     "name": "stdout",
     "output_type": "stream",
     "text": [
      "Turned On done\n"
     ]
    }
   ],
   "source": [
    "turnon (*IMCist)"
   ]
  },
  {
   "cell_type": "code",
   "execution_count": 32,
   "metadata": {},
   "outputs": [
    {
     "name": "stdout",
     "output_type": "stream",
     "text": [
      "done\n"
     ]
    }
   ],
   "source": [
    "imageadjust_IMC()"
   ]
  },
  {
   "cell_type": "code",
   "execution_count": 33,
   "metadata": {},
   "outputs": [
    {
     "name": "stdout",
     "output_type": "stream",
     "text": [
      "Turned On done\n"
     ]
    }
   ],
   "source": [
    "turnon ('rHE')\n",
    "v.layers['rHE'].opacity =0.5"
   ]
  },
  {
   "cell_type": "code",
   "execution_count": 34,
   "metadata": {},
   "outputs": [],
   "source": [
    "saveimg('overlay')"
   ]
  },
  {
   "cell_type": "markdown",
   "metadata": {},
   "source": [
    "# Figure 5A Cropped original IF images"
   ]
  },
  {
   "cell_type": "raw",
   "metadata": {},
   "source": [
    "# =>  Make shape mask on GUI "
   ]
  },
  {
   "cell_type": "code",
   "execution_count": 35,
   "metadata": {},
   "outputs": [
    {
     "name": "stdout",
     "output_type": "stream",
     "text": [
      "3792 7722 2620 6000\n"
     ]
    }
   ],
   "source": [
    "# Shape Mask Crop\n",
    "v.layers['Shapes'].save('file.csv')\n",
    "\n",
    "df=pd.read_csv('file.csv')\n",
    "x1=int(np.round(df.loc[df['vertex-index']==0, 'axis-0'].values))\n",
    "x2=int(np.round(df.loc[df['vertex-index']==3, 'axis-0'].values))\n",
    "y1=int(np.round(df.loc[df['vertex-index']==3, 'axis-1'].values))\n",
    "y2=int(np.round(df.loc[df['vertex-index']==2, 'axis-1'].values))\n",
    "\n",
    "print(x1,x2,y1,y2)"
   ]
  },
  {
   "cell_type": "code",
   "execution_count": 36,
   "metadata": {},
   "outputs": [
    {
     "name": "stdout",
     "output_type": "stream",
     "text": [
      "11667 23758 8061 18460\n"
     ]
    }
   ],
   "source": [
    "ratio_x=DAPI.shape[0]/rDAPI.shape[0]\n",
    "\n",
    "X1 = int(np.round(x1 * ratio_x))\n",
    "X2 = int(np.round(x2 * ratio_x))\n",
    "Y1 = int(np.round(y1 * ratio_x))\n",
    "Y2 = int(np.round(y2 * ratio_x))\n",
    "\n",
    "print(X1,X2,Y1,Y2)"
   ]
  },
  {
   "cell_type": "code",
   "execution_count": 37,
   "metadata": {},
   "outputs": [],
   "source": [
    "### Shape Mask Crop for IF images (larger)\n",
    "v.add_image(DAPI[X1:X2,Y1:Y2], name= 'DAPI_crop',blending='additive')\n",
    "v.add_image(Ecad[X1:X2,Y1:Y2], name= 'Ecad_crop',blending='additive')\n",
    "\n",
    "v.add_image(IF_nuc_b[X1:X2,Y1:Y2], name='IF_nuc_b_crop',blending='additive',visible=False );\n",
    "v.add_image(IF_cell_b[X1:X2,Y1:Y2], name='IF_cell_b_crop',blending='additive',visible=False );"
   ]
  },
  {
   "cell_type": "markdown",
   "metadata": {},
   "source": [
    "### IMC image enlargment  "
   ]
  },
  {
   "cell_type": "code",
   "execution_count": 38,
   "metadata": {},
   "outputs": [],
   "source": [
    "img_IMC_DNA= Image.fromarray(IMC_DNA[x1:x2,y1:y2] )\n",
    "img_IMC_DNA =img_IMC_DNA.resize(size=(IF_mesmer_org[X1:X2,Y1:Y2].shape[1],IF_mesmer_org[X1:X2,Y1:Y2].shape[0]),resample=PIL.Image.NEAREST)\n",
    "img_IMC_DNA = np.array(img_IMC_DNA)\n",
    "v.add_image(img_IMC_DNA, name= 'IMC_img_large_DNA',blending='additive',visible=False, colormap ='gray' )\n",
    "v.layers['IMC_img_large_DNA'].gamma = 0.63\n",
    "v.layers['IMC_img_large_DNA'].opacity = 1.00\n",
    "v.layers['IMC_img_large_DNA'].contrast_limits = [0,100]"
   ]
  },
  {
   "cell_type": "code",
   "execution_count": 39,
   "metadata": {},
   "outputs": [
    {
     "name": "stdout",
     "output_type": "stream",
     "text": [
      "done\n"
     ]
    }
   ],
   "source": [
    "img_IMC_Ecad= Image.fromarray(IMC_Ecad[x1:x2,y1:y2] )\n",
    "img_IMC_Ecad =img_IMC_Ecad.resize(size=(IF_mesmer_org[X1:X2,Y1:Y2].shape[1],IF_mesmer_org[X1:X2,Y1:Y2].shape[0]),resample=PIL.Image.NEAREST)\n",
    "img_IMC_Ecad = np.array(img_IMC_Ecad)\n",
    "v.add_image(img_IMC_Ecad, name= 'IMC_img_large_Ecad',blending='additive',visible=False, colormap ='red' )\n",
    "v.layers['IMC_img_large_Ecad'].gamma =  0.464\n",
    "v.layers['IMC_img_large_Ecad'].opacity = 1.00\n",
    "v.layers['IMC_img_large_Ecad'].contrast_limits =  [0.0, 36.93693693693694] # DE18 [0.0, 99] \n",
    "print('done')"
   ]
  },
  {
   "cell_type": "code",
   "execution_count": 40,
   "metadata": {},
   "outputs": [
    {
     "name": "stdout",
     "output_type": "stream",
     "text": [
      "done\n"
     ]
    }
   ],
   "source": [
    "imageadjust_crop()    \n",
    "print('done')"
   ]
  },
  {
   "cell_type": "markdown",
   "metadata": {},
   "source": [
    "### IMC mask enlargment for thin boundary lines"
   ]
  },
  {
   "cell_type": "code",
   "execution_count": 41,
   "metadata": {},
   "outputs": [
    {
     "name": "stdout",
     "output_type": "stream",
     "text": [
      "done\n"
     ]
    }
   ],
   "source": [
    "# Cell mask enlargement\n",
    "img = Image.fromarray(IMC_cell[x1:x2,y1:y2] )\n",
    "IMC_mask_large =img.resize(size=(IF_mesmer_org[X1:X2,Y1:Y2].shape[1],IF_mesmer_org[X1:X2,Y1:Y2].shape[0]),resample=PIL.Image.NEAREST)\n",
    "IMC_mask_large = np.array(IMC_mask_large)\n",
    "IMC_mask_large_b = img_as_ubyte(find_boundaries(IMC_mask_large))\n",
    "\n",
    "v.add_image(IMC_mask_large_b, name= 'IMC_mask_large_cell_b',blending='additive',visible=False, colormap ='green' )\n",
    "v.layers['IMC_mask_large_cell_b'].opacity = 0.55\n",
    "\n",
    "# nuclear mask enlargment\n",
    "img_nuc = Image.fromarray(IMC_nuc[x1:x2,y1:y2] )\n",
    "IMC_mask_nuc_large =img_nuc.resize(size=(IF_mesmer_org[X1:X2,Y1:Y2].shape[1],IF_mesmer_org[X1:X2,Y1:Y2].shape[0]),resample=PIL.Image.NEAREST)\n",
    "IMC_mask_nuc_large = np.array(IMC_mask_nuc_large)\n",
    "IMC_mask_nuc_large_b = img_as_ubyte(find_boundaries(IMC_mask_nuc_large))\n",
    "\n",
    "v.add_image(IMC_mask_nuc_large_b, name= 'IMC_mask_large_nuc_b',blending='additive',visible=False, colormap ='gray' )\n",
    "v.layers['IMC_mask_large_nuc_b'].opacity = 0.55\n",
    "\n",
    "print('done')"
   ]
  },
  {
   "cell_type": "code",
   "execution_count": 42,
   "metadata": {},
   "outputs": [],
   "source": [
    "# IF cropped mask image adjustment \n",
    "\n",
    "v.layers['IF_cell_b_crop'].opacity=0.45 \n",
    "v.layers['IF_cell_b_crop'].colormap='green'\n",
    "\n",
    "v.layers['IMC_mask_large_cell_b'].opacity=0.52 \n",
    "v.layers['IMC_mask_large_cell_b'].colormap='green'\n"
   ]
  },
  {
   "cell_type": "code",
   "execution_count": 43,
   "metadata": {},
   "outputs": [
    {
     "name": "stdout",
     "output_type": "stream",
     "text": [
      "Turned Off done\n"
     ]
    }
   ],
   "source": [
    "allimg= list(map(str, v.layers))\n",
    "turnoff(*allimg)"
   ]
  },
  {
   "cell_type": "code",
   "execution_count": 44,
   "metadata": {},
   "outputs": [
    {
     "name": "stdout",
     "output_type": "stream",
     "text": [
      "Turned On done\n"
     ]
    }
   ],
   "source": [
    "IFseries = ['DAPI_crop', 'Ecad_crop', 'IF_nuc_b_crop', 'IF_cell_b_crop' ]\n",
    "turnon(*IFseries)"
   ]
  },
  {
   "cell_type": "code",
   "execution_count": 45,
   "metadata": {},
   "outputs": [
    {
     "name": "stdout",
     "output_type": "stream",
     "text": [
      "Turned Off done\n"
     ]
    }
   ],
   "source": [
    "allimg= list(map(str, v.layers))\n",
    "turnoff(*allimg)"
   ]
  },
  {
   "cell_type": "code",
   "execution_count": 46,
   "metadata": {},
   "outputs": [
    {
     "name": "stdout",
     "output_type": "stream",
     "text": [
      "Turned On done\n"
     ]
    }
   ],
   "source": [
    "IMCseries = ['IMC_img_large_DNA', 'IMC_img_large_Ecad', 'IMC_mask_large_cell_b', 'IMC_mask_large_nuc_b' ]\n",
    "turnon(*IMCseries)"
   ]
  },
  {
   "cell_type": "markdown",
   "metadata": {},
   "source": [
    "# Supplementary Figure S3 : mask overlay ( cell masks only) "
   ]
  },
  {
   "cell_type": "code",
   "execution_count": 47,
   "metadata": {},
   "outputs": [
    {
     "name": "stdout",
     "output_type": "stream",
     "text": [
      "Turned Off done\n",
      "Turned On done\n"
     ]
    }
   ],
   "source": [
    "allimg= list(map(str, v.layers))\n",
    "turnoff(*allimg)\n",
    "\n",
    "maskoverlay = ['DAPI_crop', 'Ecad_crop', 'IF_cell_b_crop',  'IMC_mask_large_cell_b' ]\n",
    "turnon(*maskoverlay)\n",
    "\n",
    "v.layers['IF_cell_b_crop'].opacity=0.45 \n",
    "v.layers['IF_cell_b_crop'].colormap='yellow'\n",
    "\n",
    "v.layers['IMC_mask_large_cell_b'].opacity=0.52 \n",
    "v.layers['IMC_mask_large_cell_b'].colormap='cyan'"
   ]
  },
  {
   "cell_type": "markdown",
   "metadata": {},
   "source": [
    "# Figure 7B "
   ]
  },
  {
   "cell_type": "code",
   "execution_count": 48,
   "metadata": {},
   "outputs": [
    {
     "name": "stdout",
     "output_type": "stream",
     "text": [
      "Turned Off done\n"
     ]
    }
   ],
   "source": [
    "allimg= list(map(str, v.layers))\n",
    "turnoff(*allimg)"
   ]
  },
  {
   "cell_type": "code",
   "execution_count": 49,
   "metadata": {},
   "outputs": [
    {
     "name": "stdout",
     "output_type": "stream",
     "text": [
      "Turned On done\n"
     ]
    }
   ],
   "source": [
    "turnon(*IMCist)"
   ]
  },
  {
   "cell_type": "code",
   "execution_count": 50,
   "metadata": {},
   "outputs": [
    {
     "data": {
      "text/html": [
       "<div>\n",
       "<style scoped>\n",
       "    .dataframe tbody tr th:only-of-type {\n",
       "        vertical-align: middle;\n",
       "    }\n",
       "\n",
       "    .dataframe tbody tr th {\n",
       "        vertical-align: top;\n",
       "    }\n",
       "\n",
       "    .dataframe thead th {\n",
       "        text-align: right;\n",
       "    }\n",
       "</style>\n",
       "<table border=\"1\" class=\"dataframe\">\n",
       "  <thead>\n",
       "    <tr style=\"text-align: right;\">\n",
       "      <th></th>\n",
       "      <th>Unnamed: 0</th>\n",
       "      <th>index</th>\n",
       "      <th>cell_id</th>\n",
       "      <th>area_cell</th>\n",
       "      <th>centroid_X</th>\n",
       "      <th>centroid_Y</th>\n",
       "      <th>eccentricity_cell</th>\n",
       "      <th>axis_major_length</th>\n",
       "      <th>axis_minor_length</th>\n",
       "      <th>area_nuc</th>\n",
       "      <th>...</th>\n",
       "      <th>Col1_z</th>\n",
       "      <th>CD3_z</th>\n",
       "      <th>Tryptase_z</th>\n",
       "      <th>CCR7_z</th>\n",
       "      <th>CD45RO_z</th>\n",
       "      <th>TIM3_z</th>\n",
       "      <th>CD56_z</th>\n",
       "      <th>CD11c_z</th>\n",
       "      <th>index.1</th>\n",
       "      <th>clusters</th>\n",
       "    </tr>\n",
       "  </thead>\n",
       "  <tbody>\n",
       "    <tr>\n",
       "      <th>0</th>\n",
       "      <td>0</td>\n",
       "      <td>113781</td>\n",
       "      <td>94966.0</td>\n",
       "      <td>94</td>\n",
       "      <td>3238.702128</td>\n",
       "      <td>10178.414894</td>\n",
       "      <td>0.962955</td>\n",
       "      <td>21.819693</td>\n",
       "      <td>5.883941</td>\n",
       "      <td>83</td>\n",
       "      <td>...</td>\n",
       "      <td>3.310328</td>\n",
       "      <td>-0.652746</td>\n",
       "      <td>0.320686</td>\n",
       "      <td>-2.839123</td>\n",
       "      <td>-1.135023</td>\n",
       "      <td>-1.234902</td>\n",
       "      <td>-1.529230</td>\n",
       "      <td>-0.723512</td>\n",
       "      <td>0</td>\n",
       "      <td>1</td>\n",
       "    </tr>\n",
       "    <tr>\n",
       "      <th>1</th>\n",
       "      <td>1</td>\n",
       "      <td>113782</td>\n",
       "      <td>95031.0</td>\n",
       "      <td>23</td>\n",
       "      <td>3236.173913</td>\n",
       "      <td>10195.956522</td>\n",
       "      <td>0.866027</td>\n",
       "      <td>7.690033</td>\n",
       "      <td>3.844997</td>\n",
       "      <td>19</td>\n",
       "      <td>...</td>\n",
       "      <td>2.595724</td>\n",
       "      <td>-0.738860</td>\n",
       "      <td>0.593438</td>\n",
       "      <td>-2.383502</td>\n",
       "      <td>-1.343229</td>\n",
       "      <td>-1.339217</td>\n",
       "      <td>-1.414037</td>\n",
       "      <td>-0.899600</td>\n",
       "      <td>1</td>\n",
       "      <td>1</td>\n",
       "    </tr>\n",
       "    <tr>\n",
       "      <th>2</th>\n",
       "      <td>2</td>\n",
       "      <td>113783</td>\n",
       "      <td>95032.0</td>\n",
       "      <td>8</td>\n",
       "      <td>3247.375000</td>\n",
       "      <td>10196.625000</td>\n",
       "      <td>0.942232</td>\n",
       "      <td>5.321869</td>\n",
       "      <td>1.782613</td>\n",
       "      <td>3</td>\n",
       "      <td>...</td>\n",
       "      <td>1.527364</td>\n",
       "      <td>-0.738860</td>\n",
       "      <td>0.255277</td>\n",
       "      <td>-2.817953</td>\n",
       "      <td>-1.429447</td>\n",
       "      <td>-0.849131</td>\n",
       "      <td>-1.457540</td>\n",
       "      <td>-0.980357</td>\n",
       "      <td>2</td>\n",
       "      <td>1</td>\n",
       "    </tr>\n",
       "  </tbody>\n",
       "</table>\n",
       "<p>3 rows × 87 columns</p>\n",
       "</div>"
      ],
      "text/plain": [
       "   Unnamed: 0   index  cell_id  area_cell   centroid_X    centroid_Y  \\\n",
       "0           0  113781  94966.0         94  3238.702128  10178.414894   \n",
       "1           1  113782  95031.0         23  3236.173913  10195.956522   \n",
       "2           2  113783  95032.0          8  3247.375000  10196.625000   \n",
       "\n",
       "   eccentricity_cell  axis_major_length  axis_minor_length  area_nuc  ...  \\\n",
       "0           0.962955          21.819693           5.883941        83  ...   \n",
       "1           0.866027           7.690033           3.844997        19  ...   \n",
       "2           0.942232           5.321869           1.782613         3  ...   \n",
       "\n",
       "     Col1_z     CD3_z  Tryptase_z    CCR7_z  CD45RO_z    TIM3_z    CD56_z  \\\n",
       "0  3.310328 -0.652746    0.320686 -2.839123 -1.135023 -1.234902 -1.529230   \n",
       "1  2.595724 -0.738860    0.593438 -2.383502 -1.343229 -1.339217 -1.414037   \n",
       "2  1.527364 -0.738860    0.255277 -2.817953 -1.429447 -0.849131 -1.457540   \n",
       "\n",
       "    CD11c_z  index.1  clusters  \n",
       "0 -0.723512        0         1  \n",
       "1 -0.899600        1         1  \n",
       "2 -0.980357        2         1  \n",
       "\n",
       "[3 rows x 87 columns]"
      ]
     },
     "execution_count": 50,
     "metadata": {},
     "output_type": "execute_result"
    }
   ],
   "source": [
    "#Loading Read mean intensity and cluster information \n",
    "\n",
    "df=pd.read_csv(f'Analysis/new_July_2021/cluster/cluster_{name}.csv')\n",
    "df.head(3)"
   ]
  },
  {
   "cell_type": "code",
   "execution_count": 51,
   "metadata": {},
   "outputs": [
    {
     "name": "stdout",
     "output_type": "stream",
     "text": [
      "number of cells in cluster 10 in IF 3040\n",
      "number of cells in cluster 10 in IMC 1651\n"
     ]
    }
   ],
   "source": [
    "### Select cluster \n",
    "\n",
    "i = 10 \n",
    "IF_id_list=df[(df['clusters']==i) & (df['type']=='IF')].cell_id.to_list()\n",
    "IMC_id_list=df[(df['clusters']==i) & (df['type']=='IMC')].cell_id.to_list()\n",
    "print(f'number of cells in cluster {i} in IF', len(IF_id_list))\n",
    "print(f'number of cells in cluster {i} in IMC', len(IMC_id_list))"
   ]
  },
  {
   "cell_type": "markdown",
   "metadata": {},
   "source": [
    "### Visulization cluster in cell mask  "
   ]
  },
  {
   "cell_type": "code",
   "execution_count": 52,
   "metadata": {},
   "outputs": [
    {
     "name": "stdout",
     "output_type": "stream",
     "text": [
      "CPU times: user 2 µs, sys: 7 µs, total: 9 µs\n",
      "Wall time: 26 µs\n",
      "done\n"
     ]
    }
   ],
   "source": [
    "%time\n",
    "\n",
    "# Resized, registered IF/IMC nuc/cell mask \n",
    "IF_cell = imread(f'Analysis/new_July_2021/maskmerge_mesmer_0325/{name}.tiff') \n",
    "\n",
    "IF_sel =  IF_cell * np.isin(IF_cell, IF_id_list) \n",
    "IMC_sel =  IMC_cell * np.isin(IMC_cell, IMC_id_list) \n",
    "\n",
    "v.add_image(IF_sel , name='IF_sel',blending='additive',visible=True, colormap = 'cyan');\n",
    "v.add_image(IMC_sel , name='IMC_sel',blending='additive',visible=True, colormap = 'green');\n",
    "\n",
    "print('done')"
   ]
  },
  {
   "cell_type": "markdown",
   "metadata": {},
   "source": [
    "### Express relevant IMC antibodies "
   ]
  },
  {
   "cell_type": "code",
   "execution_count": 54,
   "metadata": {},
   "outputs": [
    {
     "name": "stdout",
     "output_type": "stream",
     "text": [
      "Turned Off done\n",
      "Turned On done\n"
     ]
    }
   ],
   "source": [
    "# Figure 7 DE18, Cluster #5  \n",
    "allimg= list(map(str, v.layers))\n",
    "turnoff(*allimg)\n",
    "turnon('Foxp3','panK', 'CD1a', 'CCR7')\n",
    "\n",
    "v.layers['CD1a'].colormap = 'yellow'  \n",
    "v.layers['CD1a'].contrast_limits = [4.1, 126.12612612612611]\n",
    "v.layers['CD1a'].gamma=0.272\n",
    "\n",
    "v.layers['CCR7'].colormap = 'red'  \n",
    "v.layers['CCR7'].contrast_limits = [4.1, 500.0]\n",
    "v.layers['CCR7'].gamma=0.392\n",
    "\n",
    "v.layers['Foxp3'].colormap = 'cyan'  \n",
    "v.layers['Foxp3'].contrast_limits = [0.0, 49.54954954954955]\n",
    "v.layers['Foxp3'].gamma=0.368\n",
    "\n",
    "v.layers['panK'].contrast_limits = [0, 300]\n",
    "v.layers['panK'].gamma=0.2\n",
    "v.layers['panK'].opacity=0.1 "
   ]
  },
  {
   "cell_type": "markdown",
   "metadata": {},
   "source": [
    "# Figure 3A Disease status mask overlay "
   ]
  },
  {
   "cell_type": "code",
   "execution_count": 55,
   "metadata": {},
   "outputs": [
    {
     "name": "stdout",
     "output_type": "stream",
     "text": [
      "CPU times: user 1e+03 ns, sys: 0 ns, total: 1e+03 ns\n",
      "Wall time: 3.81 µs\n",
      "done\n"
     ]
    }
   ],
   "source": [
    "%time\n",
    "names = ['DE18.NE', 'DE28.NE.A', 'PS14.24197-1E', 'PS15.19650-B3', 'PS16.38634-F2']\n",
    "\n",
    "if (name == 'DE18.NE')|(name == 'DE28.NE.A') : \n",
    "    mask_ne = imread(glob(f'Data/IMC EMR (1)/*{name}*/5. Area mask/*_NE_Mask.tif')[0])\n",
    "    v.add_image(mask_ne, name='mask_ne',blending='additive',colormap='cyan', opacity=0.3,visible=False);\n",
    "\n",
    "elif (name== 'PS14.24197-1E')| ( name == 'PS15.19650-B3') : \n",
    "    mask_imc = imread(glob(f'Data/IMC EMR (1)/*{name}*/5. Area mask/*_IMC_Mask.tif')[0])\n",
    "    mask_dys = imread(glob(f'Data/IMC EMR (1)/*{name}*/5. Area mask/*_Dys_Mask.tif')[0])\n",
    "    mask_nondys = imread(glob(f'Data/IMC EMR (1)/*{name}*/5. Area mask/*_NonDys_Mask.tif')[0]) \n",
    "        \n",
    "    v.add_image(mask_imc, name='mask_imc',blending='additive',visible=False);\n",
    "    v.add_image(mask_dys, name='mask_dys',blending='additive',visible=False);\n",
    "    v.add_image(mask_nondys, name='mask_nondys',blending='additive',visible=False);    \n",
    "    \n",
    "elif name ==  'PS16.38634-F2' : \n",
    "    mask_nondys = imread(glob(f'Data/IMC EMR (1)/*{name}*/5. Area mask/*_NonDys_Mask.tif')[0])  \n",
    "    v.add_image(mask_nondys, name='mask_nondys',blending='additive',visible=False); \n",
    "\n",
    "print('done')"
   ]
  },
  {
   "cell_type": "markdown",
   "metadata": {},
   "source": [
    "# Figure 3B Freehand Disease status ROI mask cropping  "
   ]
  },
  {
   "cell_type": "code",
   "execution_count": 56,
   "metadata": {},
   "outputs": [
    {
     "data": {
      "text/plain": [
       "(13819, 6646, 3)"
      ]
     },
     "execution_count": 56,
     "metadata": {},
     "output_type": "execute_result"
    }
   ],
   "source": [
    "mask_nondys.shape"
   ]
  },
  {
   "cell_type": "code",
   "execution_count": 57,
   "metadata": {},
   "outputs": [
    {
     "name": "stdout",
     "output_type": "stream",
     "text": [
      "done\n"
     ]
    }
   ],
   "source": [
    "mask_ne = np.zeros(mask_nondys.shape) \n",
    "\n",
    "mask_ne = np.where (mask_ne[:,:,1] !=0, 0, mask_ne[:,:,0])\n",
    "mask_nondys = np.where (mask_nondys[:,:,1] !=0, 0, mask_nondys[:,:,0])\n",
    "mask_dys = np.where (mask_dys[:,:,1] !=0, 0, mask_dys[:,:,0])\n",
    "mask_imc = np.where (mask_imc[:,:,1] !=0, 0, mask_imc[:,:,0]) \n",
    "\n",
    "img = imread(img_fn) \n",
    "img_nondys = np.array([np.where(mask_nondys>0,im,0) for im in img])\n",
    "img_dys= np.array([np.where(mask_dys>0,im,0) for im in img])\n",
    "img_imc= np.array([np.where(mask_imc>0,im,0) for im in img])\n",
    "print('done')"
   ]
  },
  {
   "cell_type": "code",
   "execution_count": 58,
   "metadata": {},
   "outputs": [
    {
     "name": "stdout",
     "output_type": "stream",
     "text": [
      "Turned Off done\n"
     ]
    }
   ],
   "source": [
    "allimg= list(map(str, v.layers))\n",
    "turnoff(*allimg)"
   ]
  },
  {
   "cell_type": "markdown",
   "metadata": {},
   "source": [
    "### nondys freehand ROI mask with IMC images "
   ]
  },
  {
   "cell_type": "raw",
   "metadata": {},
   "source": [
    "# =>  deleted all layers "
   ]
  },
  {
   "cell_type": "code",
   "execution_count": 59,
   "metadata": {},
   "outputs": [
    {
     "name": "stdout",
     "output_type": "stream",
     "text": [
      "done\n",
      "done\n"
     ]
    }
   ],
   "source": [
    "v.add_image(img_nondys, \n",
    "            channel_axis=0,\n",
    "            name=abname,\n",
    "            visible=True, # If True, napari will load all images into view at once\n",
    "            multiscale=False, # If True, napari will compute the pyramid of your image\n",
    "            contrast_limits=[0, 500])\n",
    "remove=['131X', '138Ba' ,'DNA', '134X', '208Pb','133Cs',  'DNA [1]', '80ArAr',   '127I', '140C', 'CD14 [1]','E-Cad', ] \n",
    "for r in remove: \n",
    "    v.layers.remove(r) \n",
    "imageadjust_IMC()\n",
    "print('done')"
   ]
  },
  {
   "cell_type": "markdown",
   "metadata": {},
   "source": [
    "### dys freehand ROI mask with IMC images "
   ]
  },
  {
   "cell_type": "raw",
   "metadata": {},
   "source": [
    "# =>  deleted all layers "
   ]
  },
  {
   "cell_type": "code",
   "execution_count": 61,
   "metadata": {},
   "outputs": [
    {
     "name": "stdout",
     "output_type": "stream",
     "text": [
      "done\n",
      "done\n"
     ]
    }
   ],
   "source": [
    "\n",
    "v.add_image(img_dys, \n",
    "            channel_axis=0,\n",
    "            name=abname,\n",
    "            visible=True, # If True, napari will load all images into view at once\n",
    "            multiscale=False, # If True, napari will compute the pyramid of your image\n",
    "            contrast_limits=[0, 500])\n",
    "remove=['131X', '138Ba' ,'DNA', '134X', '208Pb','133Cs',  'DNA [1]', '80ArAr',   '127I', '140C', 'CD14 [1]','E-Cad', ] \n",
    "for r in remove: \n",
    "    v.layers.remove(r) \n",
    "\n",
    "imageadjust_IMC()\n",
    "print('done')"
   ]
  },
  {
   "cell_type": "markdown",
   "metadata": {},
   "source": [
    "### IMC freehand ROI mask with IMC images "
   ]
  },
  {
   "cell_type": "raw",
   "metadata": {},
   "source": [
    "# =>  deleted all layers "
   ]
  },
  {
   "cell_type": "code",
   "execution_count": 62,
   "metadata": {},
   "outputs": [
    {
     "name": "stdout",
     "output_type": "stream",
     "text": [
      "done\n",
      "done\n"
     ]
    }
   ],
   "source": [
    "v.add_image(img_imc, \n",
    "            channel_axis=0,\n",
    "            name=abname,\n",
    "            visible=True, # If True, napari will load all images into view at once\n",
    "            multiscale=False, # If True, napari will compute the pyramid of your image\n",
    "            contrast_limits=[0, 500])\n",
    "remove=['131X', '138Ba' ,'DNA', '134X', '208Pb','133Cs',  'DNA [1]', '80ArAr',   '127I', '140C', 'CD14 [1]','E-Cad', ] \n",
    "for r in remove: \n",
    "    v.layers.remove(r) \n",
    "imageadjust_IMC()\n",
    "print('done')"
   ]
  }
 ],
 "metadata": {
  "kernelspec": {
   "display_name": "scimap_env4",
   "language": "python",
   "name": "scimap_env4"
  },
  "language_info": {
   "codemirror_mode": {
    "name": "ipython",
    "version": 3
   },
   "file_extension": ".py",
   "mimetype": "text/x-python",
   "name": "python",
   "nbconvert_exporter": "python",
   "pygments_lexer": "ipython3",
   "version": "3.8.13"
  }
 },
 "nbformat": 4,
 "nbformat_minor": 4
}
